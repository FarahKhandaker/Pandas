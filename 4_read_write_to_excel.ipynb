{
  "nbformat": 4,
  "nbformat_minor": 0,
  "metadata": {
    "colab": {
      "name": "4_read_write_to_excel.ipynb",
      "provenance": []
    },
    "kernelspec": {
      "name": "python3",
      "display_name": "Python 3"
    },
    "language_info": {
      "name": "python"
    }
  },
  "cells": [
    {
      "cell_type": "code",
      "metadata": {
        "id": "Tni7XqMKeO2J"
      },
      "source": [
        "import pandas as pd"
      ],
      "execution_count": 1,
      "outputs": []
    },
    {
      "cell_type": "code",
      "metadata": {
        "colab": {
          "resources": {
            "http://localhost:8080/nbextensions/google.colab/files.js": {
              "data": "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",
              "ok": true,
              "headers": [
                [
                  "content-type",
                  "application/javascript"
                ]
              ],
              "status": 200,
              "status_text": ""
            }
          },
          "base_uri": "https://localhost:8080/",
          "height": 109
        },
        "id": "Yh5wZ9fWgCLD",
        "outputId": "d2a920d7-bb05-4666-e17b-33c97bf3ab9f"
      },
      "source": [
        "from google.colab import files \n",
        "files.upload()"
      ],
      "execution_count": 33,
      "outputs": [
        {
          "output_type": "display_data",
          "data": {
            "text/html": [
              "\n",
              "     <input type=\"file\" id=\"files-fa6a5795-4238-42bc-944b-a4c6a73819c7\" name=\"files[]\" multiple disabled\n",
              "        style=\"border:none\" />\n",
              "     <output id=\"result-fa6a5795-4238-42bc-944b-a4c6a73819c7\">\n",
              "      Upload widget is only available when the cell has been executed in the\n",
              "      current browser session. Please rerun this cell to enable.\n",
              "      </output>\n",
              "      <script src=\"/nbextensions/google.colab/files.js\"></script> "
            ],
            "text/plain": [
              "<IPython.core.display.HTML object>"
            ]
          },
          "metadata": {}
        },
        {
          "output_type": "stream",
          "name": "stdout",
          "text": [
            "Saving stock_data.xlsx to stock_data.xlsx\n"
          ]
        },
        {
          "output_type": "execute_result",
          "data": {
            "text/plain": [
              "{'stock_data.xlsx': b'PK\\x03\\x04\\x14\\x00\\x06\\x00\\x08\\x00\\x00\\x00!\\x00A7\\x82\\xcfn\\x01\\x00\\x00\\x04\\x05\\x00\\x00\\x13\\x00\\x08\\x02[Content_Types].xml \\xa2\\x04\\x02(\\xa0\\x00\\x02\\x00\\x00\\x00\\x00\\x00\\x00\\x00\\x00\\x00\\x00\\x00\\x00\\x00\\x00\\x00\\x00\\x00\\x00\\x00\\x00\\x00\\x00\\x00\\x00\\x00\\x00\\x00\\x00\\x00\\x00\\x00\\x00\\x00\\x00\\x00\\x00\\x00\\x00\\x00\\x00\\x00\\x00\\x00\\x00\\x00\\x00\\x00\\x00\\x00\\x00\\x00\\x00\\x00\\x00\\x00\\x00\\x00\\x00\\x00\\x00\\x00\\x00\\x00\\x00\\x00\\x00\\x00\\x00\\x00\\x00\\x00\\x00\\x00\\x00\\x00\\x00\\x00\\x00\\x00\\x00\\x00\\x00\\x00\\x00\\x00\\x00\\x00\\x00\\x00\\x00\\x00\\x00\\x00\\x00\\x00\\x00\\x00\\x00\\x00\\x00\\x00\\x00\\x00\\x00\\x00\\x00\\x00\\x00\\x00\\x00\\x00\\x00\\x00\\x00\\x00\\x00\\x00\\x00\\x00\\x00\\x00\\x00\\x00\\x00\\x00\\x00\\x00\\x00\\x00\\x00\\x00\\x00\\x00\\x00\\x00\\x00\\x00\\x00\\x00\\x00\\x00\\x00\\x00\\x00\\x00\\x00\\x00\\x00\\x00\\x00\\x00\\x00\\x00\\x00\\x00\\x00\\x00\\x00\\x00\\x00\\x00\\x00\\x00\\x00\\x00\\x00\\x00\\x00\\x00\\x00\\x00\\x00\\x00\\x00\\x00\\x00\\x00\\x00\\x00\\x00\\x00\\x00\\x00\\x00\\x00\\x00\\x00\\x00\\x00\\x00\\x00\\x00\\x00\\x00\\x00\\x00\\x00\\x00\\x00\\x00\\x00\\x00\\x00\\x00\\x00\\x00\\x00\\x00\\x00\\x00\\x00\\x00\\x00\\x00\\x00\\x00\\x00\\x00\\x00\\x00\\x00\\x00\\x00\\x00\\x00\\x00\\x00\\x00\\x00\\x00\\x00\\x00\\x00\\x00\\x00\\x00\\x00\\x00\\x00\\x00\\x00\\x00\\x00\\x00\\x00\\x00\\x00\\x00\\x00\\x00\\x00\\x00\\x00\\x00\\x00\\x00\\x00\\x00\\x00\\x00\\x00\\x00\\x00\\x00\\x00\\x00\\x00\\x00\\x00\\x00\\x00\\x00\\x00\\x00\\x00\\x00\\x00\\x00\\x00\\x00\\x00\\x00\\x00\\x00\\x00\\x00\\x00\\x00\\x00\\x00\\x00\\x00\\x00\\x00\\x00\\x00\\x00\\x00\\x00\\x00\\x00\\x00\\x00\\x00\\x00\\x00\\x00\\x00\\x00\\x00\\x00\\x00\\x00\\x00\\x00\\x00\\x00\\x00\\x00\\x00\\x00\\x00\\x00\\x00\\x00\\x00\\x00\\x00\\x00\\x00\\x00\\x00\\x00\\x00\\x00\\x00\\x00\\x00\\x00\\x00\\x00\\x00\\x00\\x00\\x00\\x00\\x00\\x00\\x00\\x00\\x00\\x00\\x00\\x00\\x00\\x00\\x00\\x00\\x00\\x00\\x00\\x00\\x00\\x00\\x00\\x00\\x00\\x00\\x00\\x00\\x00\\x00\\x00\\x00\\x00\\x00\\x00\\x00\\x00\\x00\\x00\\x00\\x00\\x00\\x00\\x00\\x00\\x00\\x00\\x00\\x00\\x00\\x00\\x00\\x00\\x00\\x00\\x00\\x00\\x00\\x00\\x00\\x00\\x00\\x00\\x00\\x00\\x00\\x00\\x00\\x00\\x00\\x00\\x00\\x00\\x00\\x00\\x00\\x00\\x00\\x00\\x00\\x00\\x00\\x00\\x00\\x00\\x00\\x00\\x00\\x00\\x00\\x00\\x00\\x00\\x00\\x00\\x00\\x00\\x00\\x00\\x00\\x00\\x00\\x00\\x00\\x00\\x00\\x00\\x00\\x00\\x00\\x00\\x00\\x00\\x00\\x00\\x00\\x00\\x00\\x00\\x00\\x00\\x00\\x00\\x00\\x00\\x00\\x00\\x00\\x00\\x00\\x00\\x00\\x00\\x00\\x00\\x00\\x00\\x00\\x00\\x00\\x00\\x00\\x00\\x00\\x00\\x00\\x00\\x00\\x00\\x00\\x00\\x00\\x00\\x00\\x00\\x00\\x00\\x00\\x00\\x00\\x00\\x00\\x00\\x00\\x00\\x00\\x00\\x00\\x00\\x00\\xacT\\xc9n\\xc20\\x10\\xbdW\\xea?D\\xbeV\\x89\\xa1\\x87\\xaa\\xaa\\x08\\x1c\\xba\\x1c[$\\xe8\\x07\\x98x\\x92X$\\xb6\\xe5\\x19(\\xfc}\\'fQU\\xb1\\x08\\xc1%Ql\\xcf[&\\xf3<\\x18\\xad\\xda&YB@\\xe3l.\\xfaYO$`\\x0b\\xa7\\x8d\\xadr\\xf1=\\xfdH\\x9fE\\x82\\xa4\\xacV\\x8d\\xb3\\x90\\x8b5\\xa0\\x18\\r\\xef\\xef\\x06\\xd3\\xb5\\x07L\\xb8\\xdab.j\"\\xff\"%\\x165\\xb4\\n3\\xe7\\xc1\\xf2N\\xe9B\\xab\\x88?C%\\xbd*\\xe6\\xaa\\x02\\xf9\\xd8\\xeb=\\xc9\\xc2Y\\x02K)u\\x18b8x\\x83R-\\x1aJ\\xdeW\\xbc\\xbcQ23V$\\xaf\\x9bs\\x1dU.\\x94\\xf7\\x8d)\\x14\\xb1P\\xb9\\xb4\\xfa\\x1fI\\xea\\xca\\xd2\\x14\\xa0]\\xb1h\\x19:C\\x1f@i\\xac\\x01\\xa8m2\\x1f\\x0c3\\x86\\t\\x10\\xb11\\x14\\xf2 g\\x80\\x06/#\\xdd\\xba\\xca\\xb82\\n\\xc3\\xdax|`\\xebG\\x18\\xba\\x9d\\xe3\\xae\\xb6u_\\xfc;\\x82\\xd1\\x90\\x8cU\\xa0O\\xd5\\xb2w\\xb9j\\xe4\\x8f\\x0b\\xf3\\x99s\\xf3\\xec4\\xc8\\xa5\\xad\\x89-\\xcaZe\\xecN\\xf7\\t\\xfex\\x18e|\\xf5o,\\xa4\\xf3\\x17\\x81\\xcf\\xe8 \\x9e1\\x90\\xf1y\\xbd\\x84\\x08s\\x86\\x10i\\xdd\\x00\\xde\\xba\\xed\\x11\\xf4\\x1cs\\xad\\x02\\xe8\\t\\xf1\\xf4V7\\x17\\xf0\\x17\\xfb\\x94\\x0e\\x8e\\xd488\\x8f\\x9c\\xda\\x00\\x97wa\\x17\\x91\\xae:\\xf5\\x0c\\x04\\x81\\x0c\\xecCrh\\xd8\\xf6\\x8c\\x1c\\xf9\\xab\\xdb\\x0e\\xdd\\x9d\\xa2A\\x1f\\xe0\\x96\\xf1\\x0e\\x1b\\xfe\\x02\\x00\\x00\\xff\\xff\\x03\\x00PK\\x03\\x04\\x14\\x00\\x06\\x00\\x08\\x00\\x00\\x00!\\x00\\xb5U0#\\xf4\\x00\\x00\\x00L\\x02\\x00\\x00\\x0b\\x00\\x08\\x02_rels/.rels \\xa2\\x04\\x02(\\xa0\\x00\\x02\\x00\\x00\\x00\\x00\\x00\\x00\\x00\\x00\\x00\\x00\\x00\\x00\\x00\\x00\\x00\\x00\\x00\\x00\\x00\\x00\\x00\\x00\\x00\\x00\\x00\\x00\\x00\\x00\\x00\\x00\\x00\\x00\\x00\\x00\\x00\\x00\\x00\\x00\\x00\\x00\\x00\\x00\\x00\\x00\\x00\\x00\\x00\\x00\\x00\\x00\\x00\\x00\\x00\\x00\\x00\\x00\\x00\\x00\\x00\\x00\\x00\\x00\\x00\\x00\\x00\\x00\\x00\\x00\\x00\\x00\\x00\\x00\\x00\\x00\\x00\\x00\\x00\\x00\\x00\\x00\\x00\\x00\\x00\\x00\\x00\\x00\\x00\\x00\\x00\\x00\\x00\\x00\\x00\\x00\\x00\\x00\\x00\\x00\\x00\\x00\\x00\\x00\\x00\\x00\\x00\\x00\\x00\\x00\\x00\\x00\\x00\\x00\\x00\\x00\\x00\\x00\\x00\\x00\\x00\\x00\\x00\\x00\\x00\\x00\\x00\\x00\\x00\\x00\\x00\\x00\\x00\\x00\\x00\\x00\\x00\\x00\\x00\\x00\\x00\\x00\\x00\\x00\\x00\\x00\\x00\\x00\\x00\\x00\\x00\\x00\\x00\\x00\\x00\\x00\\x00\\x00\\x00\\x00\\x00\\x00\\x00\\x00\\x00\\x00\\x00\\x00\\x00\\x00\\x00\\x00\\x00\\x00\\x00\\x00\\x00\\x00\\x00\\x00\\x00\\x00\\x00\\x00\\x00\\x00\\x00\\x00\\x00\\x00\\x00\\x00\\x00\\x00\\x00\\x00\\x00\\x00\\x00\\x00\\x00\\x00\\x00\\x00\\x00\\x00\\x00\\x00\\x00\\x00\\x00\\x00\\x00\\x00\\x00\\x00\\x00\\x00\\x00\\x00\\x00\\x00\\x00\\x00\\x00\\x00\\x00\\x00\\x00\\x00\\x00\\x00\\x00\\x00\\x00\\x00\\x00\\x00\\x00\\x00\\x00\\x00\\x00\\x00\\x00\\x00\\x00\\x00\\x00\\x00\\x00\\x00\\x00\\x00\\x00\\x00\\x00\\x00\\x00\\x00\\x00\\x00\\x00\\x00\\x00\\x00\\x00\\x00\\x00\\x00\\x00\\x00\\x00\\x00\\x00\\x00\\x00\\x00\\x00\\x00\\x00\\x00\\x00\\x00\\x00\\x00\\x00\\x00\\x00\\x00\\x00\\x00\\x00\\x00\\x00\\x00\\x00\\x00\\x00\\x00\\x00\\x00\\x00\\x00\\x00\\x00\\x00\\x00\\x00\\x00\\x00\\x00\\x00\\x00\\x00\\x00\\x00\\x00\\x00\\x00\\x00\\x00\\x00\\x00\\x00\\x00\\x00\\x00\\x00\\x00\\x00\\x00\\x00\\x00\\x00\\x00\\x00\\x00\\x00\\x00\\x00\\x00\\x00\\x00\\x00\\x00\\x00\\x00\\x00\\x00\\x00\\x00\\x00\\x00\\x00\\x00\\x00\\x00\\x00\\x00\\x00\\x00\\x00\\x00\\x00\\x00\\x00\\x00\\x00\\x00\\x00\\x00\\x00\\x00\\x00\\x00\\x00\\x00\\x00\\x00\\x00\\x00\\x00\\x00\\x00\\x00\\x00\\x00\\x00\\x00\\x00\\x00\\x00\\x00\\x00\\x00\\x00\\x00\\x00\\x00\\x00\\x00\\x00\\x00\\x00\\x00\\x00\\x00\\x00\\x00\\x00\\x00\\x00\\x00\\x00\\x00\\x00\\x00\\x00\\x00\\x00\\x00\\x00\\x00\\x00\\x00\\x00\\x00\\x00\\x00\\x00\\x00\\x00\\x00\\x00\\x00\\x00\\x00\\x00\\x00\\x00\\x00\\x00\\x00\\x00\\x00\\x00\\x00\\x00\\x00\\x00\\x00\\x00\\x00\\x00\\x00\\x00\\x00\\x00\\x00\\x00\\x00\\x00\\x00\\x00\\x00\\x00\\x00\\x00\\x00\\x00\\x00\\x00\\x00\\x00\\x00\\x00\\x00\\x00\\x00\\x00\\x00\\x00\\x00\\x00\\x00\\x00\\x00\\x00\\x00\\x00\\x00\\x00\\x00\\x00\\x00\\x00\\x00\\x00\\x00\\x00\\x00\\x00\\x00\\x00\\x00\\x00\\x00\\x00\\x00\\x00\\x00\\x00\\x00\\xac\\x92MO\\xc30\\x0c\\x86\\xefH\\xfc\\x87\\xc8\\xf7\\xd5\\xdd\\x90\\x10BKwAH\\xbb!T~\\x80I\\xdc\\x0f\\xb5\\x8d\\xa3$\\x1b\\xdd\\xbf\\'\\x1c\\x10T\\x1a\\x83\\x03G\\x7f\\xbd~\\xfc\\xca\\xdb\\xdd<\\x8d\\xea\\xc8!\\xf6\\xe24\\xac\\x8b\\x12\\x14;#\\xb6w\\xad\\x86\\x97\\xfaqu\\x07*&r\\x96Fq\\xac\\xe1\\xc4\\x11v\\xd5\\xf5\\xd5\\xf6\\x99GJy(v\\xbd\\x8f*\\xab\\xb8\\xa8\\xa1K\\xc9\\xdf#F\\xd3\\xf1D\\xb1\\x10\\xcf.W\\x1a\\t\\x13\\xa5\\x1c\\x86\\x16=\\x99\\x81Z\\xc6MY\\xdeb\\xf8\\xae\\x01\\xd5BS\\xed\\xad\\x86\\xb0\\xb77\\xa0\\xea\\x93\\xcf\\x9b\\x7f\\xd7\\x96\\xa6\\xe9\\r?\\x889L\\xec\\xd2\\x99\\x15\\xc8sbg\\xd9\\xae|\\xc8l!\\xf5\\xf9\\x1aUSh9i\\xb0b\\x9er:\"y_dl\\xc0\\xf3D\\x9b\\xbf\\x13\\xfd|-N\\x9c\\xc8R\"4\\x12\\xf82\\xcfG\\xc7%\\xa0\\xf5\\x7fZ\\xb44\\xf1\\xcb\\x9dy\\xc47\\t\\xc3\\xab\\xc8\\xf0\\xc9\\x82\\x8b\\x1f\\xa8\\xde\\x01\\x00\\x00\\xff\\xff\\x03\\x00PK\\x03\\x04\\x14\\x00\\x06\\x00\\x08\\x00\\x00\\x00!\\x00\\x81>\\x94\\x97\\xf3\\x00\\x00\\x00\\xba\\x02\\x00\\x00\\x1a\\x00\\x08\\x01xl/_rels/workbook.xml.rels \\xa2\\x04\\x01(\\xa0\\x00\\x01\\x00\\x00\\x00\\x00\\x00\\x00\\x00\\x00\\x00\\x00\\x00\\x00\\x00\\x00\\x00\\x00\\x00\\x00\\x00\\x00\\x00\\x00\\x00\\x00\\x00\\x00\\x00\\x00\\x00\\x00\\x00\\x00\\x00\\x00\\x00\\x00\\x00\\x00\\x00\\x00\\x00\\x00\\x00\\x00\\x00\\x00\\x00\\x00\\x00\\x00\\x00\\x00\\x00\\x00\\x00\\x00\\x00\\x00\\x00\\x00\\x00\\x00\\x00\\x00\\x00\\x00\\x00\\x00\\x00\\x00\\x00\\x00\\x00\\x00\\x00\\x00\\x00\\x00\\x00\\x00\\x00\\x00\\x00\\x00\\x00\\x00\\x00\\x00\\x00\\x00\\x00\\x00\\x00\\x00\\x00\\x00\\x00\\x00\\x00\\x00\\x00\\x00\\x00\\x00\\x00\\x00\\x00\\x00\\x00\\x00\\x00\\x00\\x00\\x00\\x00\\x00\\x00\\x00\\x00\\x00\\x00\\x00\\x00\\x00\\x00\\x00\\x00\\x00\\x00\\x00\\x00\\x00\\x00\\x00\\x00\\x00\\x00\\x00\\x00\\x00\\x00\\x00\\x00\\x00\\x00\\x00\\x00\\x00\\x00\\x00\\x00\\x00\\x00\\x00\\x00\\x00\\x00\\x00\\x00\\x00\\x00\\x00\\x00\\x00\\x00\\x00\\x00\\x00\\x00\\x00\\x00\\x00\\x00\\x00\\x00\\x00\\x00\\x00\\x00\\x00\\x00\\x00\\x00\\x00\\x00\\x00\\x00\\x00\\x00\\x00\\x00\\x00\\x00\\x00\\x00\\x00\\x00\\x00\\x00\\x00\\x00\\x00\\x00\\x00\\x00\\x00\\x00\\x00\\x00\\x00\\x00\\x00\\x00\\x00\\x00\\x00\\x00\\x00\\x00\\x00\\x00\\x00\\x00\\x00\\x00\\x00\\x00\\x00\\x00\\x00\\x00\\x00\\x00\\x00\\x00\\x00\\x00\\x00\\x00\\x00\\x00\\x00\\x00\\x00\\x00\\x00\\x00\\x00\\x00\\x00\\x00\\x00\\x00\\x00\\x00\\x00\\xacRMK\\xc40\\x10\\xbd\\x0b\\xfe\\x870w\\x9bv\\x15\\x11\\xd9t/\"\\xecU\\xeb\\x0f\\x08\\xc9\\xb4)\\xdb&!3~\\xf4\\xdf\\x1b*\\xba]X\\xd6K/\\x03o\\x86y\\xef\\xcd\\xc7v\\xf75\\x0e\\xe2\\x03\\x13\\xf5\\xc1+\\xa8\\x8a\\x12\\x04z\\x13l\\xef;\\x05o\\xcd\\xf3\\xcd\\x03\\x08b\\xed\\xad\\x1e\\x82G\\x05\\x13\\x12\\xec\\xea\\xeb\\xab\\xed\\x0b\\x0e\\x9as\\x13\\xb9>\\x92\\xc8,\\x9e\\x148\\xe6\\xf8(%\\x19\\x87\\xa3\\xa6\"D\\xf4\\xb9\\xd2\\x864j\\xce0u2js\\xd0\\x1d\\xcaMY\\xde\\xcb\\xb4\\xe4\\x80\\xfa\\x84S\\xec\\xad\\x82\\xb4\\xb7\\xb7 \\x9a)f\\xe5\\xff\\xb9C\\xdb\\xf6\\x06\\x9f\\x82y\\x1f\\xd1\\xf3\\x19\\tI<\\ry\\x00\\xd1\\xe8\\xd4!+\\xf8\\xc1E\\xf6\\x08\\xf2\\xbc\\xfcfMy\\xcek\\xc1\\xa3\\xfa\\x0c\\xe5\\x1c\\xabK\\x1e\\xaa5=|\\x86t \\x87\\xc8G\\x1f\\x7f)\\x92s\\xe5\\xa2\\x99\\xbbU\\xef\\xe1tB\\xfb\\xca)\\xbf\\xdb\\xf2,\\xcb\\xf4\\xeff\\xe4\\xc9\\xc7\\xd5\\xdf\\x00\\x00\\x00\\xff\\xff\\x03\\x00PK\\x03\\x04\\x14\\x00\\x06\\x00\\x08\\x00\\x00\\x00!\\x00\\x0c\\xed\\xb1\\x14\\xe9\\x01\\x00\\x00\\xd5\\x03\\x00\\x00\\x0f\\x00\\x00\\x00xl/workbook.xml\\xa4\\x93M\\x8f\\xd30\\x10\\x86\\xefH\\xfc\\x07\\xcb\\xf7\\xad\\x93\\x8a\\xb6K\\xd4d\\x05\\x05D/h\\x05\\xcb\\xee\\xa5R\\xe5:\\x93\\xc6\\xaa\\xbf\\xb0\\x1d\\xd2\\xfe{\\xc6\\t\\x85B/\\x8b\\xb8\\xc4\\xe3\\x8f<\\xf6\\xbc\\xef\\xcc\\xf2\\xee\\xa8\\x15\\xf9\\x0e>HkJ\\x9aO2J\\xc0\\x08[K\\xb3/\\xe9\\xd7\\x87\\x0f7\\xb7\\x94\\x84\\xc8M\\xcd\\x955P\\xd2\\x13\\x04zW\\xbd|\\xb1\\xec\\xad?\\xec\\xac=\\x10\\x04\\x98P\\xd26FW0\\x16D\\x0b\\x9a\\x87\\x89u`p\\xa7\\xb1^\\xf3\\x88S\\xbfg\\xc1y\\xe0uh\\x01\\xa2Vl\\x9aes\\xa6\\xb94t$\\x14\\xfe9\\x0c\\xdb4R\\xc0;+:\\r&\\x8e\\x10\\x0f\\x8aG|~h\\xa5\\x0bg\\x9a\\x16\\xcf\\xc1i\\xee\\x0f\\x9d\\xbb\\x11V;D\\xec\\xa4\\x92\\xf14@)\\xd1\\xa2X\\xef\\x8d\\xf5|\\xa70\\xedc>;\\x931\\xbcBk)\\xbc\\r\\xb6\\x89\\x13D\\xb1\\xf1\\x91W\\xf9\\xe6\\x19\\xcb\\xf31\\xe5j\\xd9H\\x05\\x8f\\xa3\\xec\\x84;\\xf7\\x89\\xebt\\x8b\\xa2D\\xf1\\x10\\xdf\\xd72B]\\xd2\\x05Nm\\x0f\\x7f,\\xf8\\xce\\xbd\\xed\\xa4\\xc2\\xdd|1[\\xe4\\x94U\\xbf\\xac\\xb8\\xf7\\xa4\\x86\\x86w*>\\xa0\\tg<\\x1e\\x9c\\xcf_Og\\xe9$&\\xf5FE\\xf0\\x86GXY\\x13Q\\xc3\\x9f\\xea\\xff\\xaf^\\x03{\\xd5Zt\\x87|\\x86o\\x9d\\xf4\\x80E\\x91d\\xab\\x96\\xf8\\xe5\\xa2\\xe0\\xbbp\\xcfcK:\\xafJ\\xba*6+[\\xc3\\xc6\\x9d6.\\x15W\\xd8\\xbc\\xda\\xa6\\xea\\xd8\\xf6\\x1eS\\xdfF\\xbb\\x85\\xa3\\x00\\xb5\\xb9\\x10\\x9d_;\\xfa\\x0f\\xb2s\\x91\\xf2g(\\xc0\\xf8\\xc81\\xfe[\\x8cj\\x99J\\xfaQB\\x1f~\\xcb\\x9a\\xa6\\xe4\\xf8$Mm\\xfb\\x92b\\x83\\x9c.\\xe2~X~\\x92ulK:\\xcd\\xe7\\xa9N\\xc6\\xb5\\x8f \\xf7mD\\xf5\\xf3\\xdbl\\x10\\x9f]\\xb0\\x87.\\xc0;\\x86\\x91\\x98\\xc1\\xfd/\\xa93rl\\xb74\\xae\\x93\\xc1\\x94\\xf8Bb\\xe0\\xd7\\xf5`4;\\xff&\\xb8\\x12\\xe8v\\x1a\\xd2\\xc1l\\xc8\\xed\\xdc\\x91\\xd5\\x0f\\x00\\x00\\x00\\xff\\xff\\x03\\x00PK\\x03\\x04\\x14\\x00\\x06\\x00\\x08\\x00\\x00\\x00!\\x00L\\xa6V\\xcd\\x17\\x01\\x00\\x00#\\x02\\x00\\x00\\x14\\x00\\x00\\x00xl/sharedStrings.xmld\\x91Ak\\xc30\\x0c\\x85\\xef\\x83\\xfd\\x07\\xe3\\xfb\\xe2n\\x87n\\x94\\xc4\\xa5\\x0cZ\\x06-\\x85-cg%\\xd5\\x12SG\\xf6,\\'\\xac\\xff~.\\x1b\\x0c\\x9c\\x8bA\\xdfC~\\xd2S\\xb9\\xfe\\x1e\\xac\\x980\\xb0qT\\xc9\\xfbb!\\x05R\\xebN\\x86\\xbaJ\\xbe\\xd7\\xdb\\xbb\\')8\\x02\\x9d\\xc0:\\xc2J^\\x90\\xe5Z\\xdf\\xde\\x94\\xccQ\\xa4^\\xe2J\\xf61\\xfa\\x95R\\xdc\\xf68\\x00\\x17\\xce#%\\xe5\\xd3\\x85\\x01b*C\\xa7\\xd8\\x07\\x84\\x13\\xf7\\x88q\\xb0\\xeaa\\xb1X\\xaa\\x01\\x0cI\\xd1\\xba\\x91b\\xf2}\\x94b$\\xf35\\xe2\\xf3\\x1fXJ]\\xb2\\xd1e\\xd4\\xe8\\xb9TQ\\x97\\xeaZ\\xfe\"\\x1fL\\x8b9\\x8c\\xa6=\\xa7=r\\xbc;\\x1ew\\xfb\\x1c~\\x1c\\xea\\x1c\\x1d\\xde\\xb63\\x16pB\\x1agN\\x1e\\x9d\\xb73j!\\x84\\x8b\\xf0\\xd0\\xcd\\x14*\\xa0\\xc8\\xed\\x1ac\\xad\\xe8 b>\\xf05\\xd4\\x15{hS\\xd8)5\\xc60\\xa1\\xd4\\xaf/{\\x91\\x7fA.\\n\\x98\\xc0Xh\\xe6\\xd3\\x0c\\xe3\\x19\\xb9\\x1704@&\\xef\\xac7\\xf5&g\\x01\\xd2\\x95EL\\xef\\xbf\\xa2\\xd2\\x91\\xf5\\x0f\\x00\\x00\\x00\\xff\\xff\\x03\\x00PK\\x03\\x04\\x14\\x00\\x06\\x00\\x08\\x00\\x00\\x00!\\x00;m2K\\xc1\\x00\\x00\\x00B\\x01\\x00\\x00#\\x00\\x00\\x00xl/worksheets/_rels/sheet1.xml.rels\\x84\\x8f\\xc1\\x8a\\xc20\\x14E\\xf7\\x03\\xfeCx{\\x93\\xd6\\x85\\x0cCS7\"\\xb8U\\xe7\\x03b\\xfa\\xda\\x06\\xdb\\x97\\x90\\xf7\\x14\\xfd{\\xb3\\x1ce\\xc0\\xe5\\xe5p\\xcf\\xe56\\x9b\\xfb<\\xa9\\x1bf\\x0e\\x91,\\xd4\\xba\\x02\\x85\\xe4c\\x17h\\xb0\\xf0{\\xda-\\xbfA\\xb18\\xea\\xdc\\x14\\t-<\\x90a\\xd3.\\xbe\\x9a\\x03NNJ\\x89\\xc7\\x90X\\x15\\x0b\\xb1\\x85Q$\\xfd\\x18\\xc3~\\xc4\\xd9\\xb1\\x8e\\t\\xa9\\x90>\\xe6\\xd9I\\x89y0\\xc9\\xf9\\x8b\\x1b\\xd0\\xac\\xaajm\\xf2_\\x07\\xb4/N\\xb5\\xef,\\xe4}W\\x83:=RY\\xfe\\xec\\x8e}\\x1f<n\\xa3\\xbf\\xceH\\xf2\\xcf\\x84I9\\x90`>\\xa2H9\\xc8E\\xed\\xf2\\x80bA\\xebw\\xf6\\x9ek}\\x0e\\x04\\xa6m\\xcc\\xcb\\xf3\\xf6\\t\\x00\\x00\\xff\\xff\\x03\\x00PK\\x03\\x04\\x14\\x00\\x06\\x00\\x08\\x00\\x00\\x00!\\x00\\xc1\\x17\\x10\\xbeN\\x07\\x00\\x00\\xc6 \\x00\\x00\\x13\\x00\\x00\\x00xl/theme/theme1.xml\\xecY\\xcd\\x8b\\x1b7\\x14\\xbf\\x17\\xfa?\\x0csw\\xfc5\\xe3\\x8f%\\xde\\xe0\\xcfl\\x93\\xdd$d\\x9d\\x94\\x1c\\xb5\\xb6\\xecQV32\\x92\\xbc\\x1b\\x13\\x02%9\\xf5R(\\xa4\\xa5\\x97Bo=\\x94\\xd2@\\x03\\r\\xbd\\xf4\\x8f\\t$\\xb4\\xe9\\x1f\\xd1\\'\\xcd\\xd8#\\xad\\xe5$\\x9blJZv\\r\\x8bG\\xfe\\xbd\\xa7\\xa7\\xf7\\x9e~z\\xf3t\\xf1\\xd2\\xbd\\x98zG\\x98\\x0b\\xc2\\x92\\x96_\\xbeP\\xf2=\\x9c\\x8c\\xd8\\x98$\\xd3\\x96\\x7fk8(4|OH\\x94\\x8c\\x11e\\tn\\xf9\\x0b,\\xfcK\\xdb\\x9f~r\\x11m\\xc9\\x08\\xc7\\xd8\\x03\\xf9Dl\\xa1\\x96\\x1fI9\\xdb*\\x16\\xc5\\x08\\x86\\x91\\xb8\\xc0f8\\x81\\xdf&\\x8c\\xc7H\\xc2#\\x9f\\x16\\xc7\\x1c\\x1d\\x83\\xde\\x98\\x16+\\xa5R\\xad\\x18#\\x92\\xf8^\\x82bP{}2!#\\xec\\r\\x95J\\x7f{\\xa9\\xbcO\\xe11\\x91B\\r\\x8c(\\xdfW\\xaa\\xb1%\\xa1\\xb1\\xe3\\xc3\\xb2B\\x88\\x85\\xe8R\\xee\\x1d!\\xda\\xf2a\\x9e1;\\x1e\\xe2{\\xd2\\xf7(\\x12\\x12~h\\xf9%\\xfd\\xe7\\x17\\xb7/\\x16\\xd1V&D\\xe5\\x06YCn\\xa0\\xff2\\xb9L`|X\\xd1s\\xf2\\xe9\\xc1j\\xd2 \\x08\\x83Z{\\xa5_\\x03\\xa8\\\\\\xc7\\xf5\\xeb\\xfdZ\\xbf\\xb6\\xd2\\xa7\\x01h4\\x82\\x95\\xa6\\xb6\\xd8:\\xeb\\x95n\\x90a\\rP\\xfa\\xd5\\xa1\\xbbW\\xefU\\xcb\\x16\\xde\\xd0_]\\xb3\\xb9\\x1d\\xaa\\x8f\\x85\\xd7\\xa0T\\x7f\\xb0\\x86\\x1f\\x0c\\xba\\xe0E\\x0b\\xafA)>\\\\\\xc3\\x87\\x9df\\xa7g\\xeb\\xd7\\xa0\\x14_[\\xc3\\xd7K\\xed^P\\xb7\\xf4kPDIr\\xb8\\x86.\\x85\\xb5jw\\xb9\\xda\\x15d\\xc2\\xe8\\x8e\\x13\\xde\\x0c\\x83A\\xbd\\x92)\\xcfQ\\x90\\r\\xab\\xecRSLX\"7\\xe5Z\\x8c\\xee2>\\x00\\x80\\x02R$I\\xe2\\xc9\\xc5\\x0cO\\xd0\\x08\\xb2\\xb8\\x8b(9\\xe0\\xc4\\xdb%\\xd3\\x08\\x12o\\x86\\x12&`\\xb8T)\\rJU\\xf8\\xaf>\\x81\\xfe\\xa6#\\x8a\\xb602\\xa4\\x95]`\\x89X\\x1bR\\xf6xb\\xc4\\xc9L\\xb6\\xfc+\\xa0\\xd57 /\\x9e={\\xfe\\xf0\\xe9\\xf3\\x87\\xbf=\\x7f\\xf4\\xe8\\xf9\\xc3_\\xb2\\xb9\\xb5*Kn\\x07%SS\\xee\\xd5\\x8f_\\xff\\xfd\\xfd\\x17\\xde_\\xbf\\xfe\\xf0\\xea\\xf17\\xe9\\xd4\\'\\xf1\\xc2\\xc4\\xbf\\xfc\\xf9\\xcb\\x97\\xbf\\xff\\xf1:\\xf5\\xb0\\xe2\\xdc\\x15/\\xbe}\\xf2\\xf2\\xe9\\x93\\x17\\xdf}\\xf5\\xe7O\\x8f\\x1d\\xda\\xdb\\x1c\\x1d\\x98\\xf0!\\x89\\xb1\\xf0\\xae\\xe1c\\xef&\\x8ba\\x81\\x0e\\xfb\\xf1\\x01?\\x9d\\xc40B\\xc4\\x92@\\x11\\xe8v\\xa8\\xee\\xcb\\xc8\\x02^[ \\xea\\xc2u\\xb0\\xed\\xc2\\xdb\\x1cX\\xc6\\x05\\xbc<\\xbfk\\xd9\\xba\\x1f\\xf1\\xb9$\\x8e\\x99\\xafF\\xb1\\x05\\xdcc\\x8cv\\x18w:\\xe0\\xaa\\x9a\\xcb\\xf0\\xf0p\\x9eL\\xdd\\x93\\xf3\\xb9\\x89\\xbb\\x89\\xd0\\x91k\\xee.J\\xac\\x00\\xf7\\xe73\\xa0W\\xe2R\\xd9\\x8d\\xb0e\\xe6\\r\\x8a\\x12\\x89\\xa68\\xc1\\xd2S\\xbf\\xb1C\\x8c\\x1d\\xab\\xbbC\\x88\\xe5\\xd7=2\\xe2L\\xb0\\x89\\xf4\\xee\\x10\\xaf\\x83\\x88\\xd3%Cr`%R.\\xb4Cb\\x88\\xcb\\xc2e \\x84\\xda\\xf2\\xcd\\xdem\\xaf\\xc3\\xa8k\\xd5=|d#a[ \\xea0~\\x88\\xa9\\xe5\\xc6\\xcbh.Q\\xecR9D15\\x1d\\xbe\\x8bd\\xe42r\\x7f\\xc1G&\\xae/$Dz\\x8a)\\xf3\\xfac,\\x84K\\xe6:\\x87\\xf5\\x1aA\\xbf\\n\\x0c\\xe3\\x0e\\xfb\\x1e]\\xc46\\x92Kr\\xe8\\xd2\\xb9\\x8b\\x183\\x91=v\\xd8\\x8dP<s\\xdaL\\x92\\xc8\\xc4~&\\x0e!E\\x91w\\x83I\\x17|\\x8f\\xd9;D=C\\x1cP\\xb21\\xdc\\xb7\\t\\xb6\\xc2\\xfdf\"\\xb8\\x05\\xe4j\\x9a\\x94\\'\\x88\\xfae\\xce\\x1d\\xb1\\xbc\\x8c\\x99\\xbd\\x1f\\x17t\\x82\\xb0\\x8be\\xda<\\xb6\\xd8\\xb5\\xcd\\x893;:\\xf3\\xa9\\x95\\xda\\xbb\\x18St\\x8c\\xc6\\x18{\\xb7>sX\\xd0a3\\xcb\\xe7\\xb9\\xd1W\"`\\x95\\x1d\\xecJ\\xac+\\xc8\\xceU\\xf5\\x9c`\\x01e\\x92\\xaak\\xd6)r\\x97\\x08+e\\xf7\\xf1\\x94m\\xb0goq\\x82x\\x16(\\x89\\x11\\xdf\\xa4\\xf9\\x1aD\\xddJ]8\\xe5\\x9cTz\\x9d\\x8e\\x0eM\\xe05\\x02\\xe5\\x1f\\xe4\\x8b\\xd3)\\xd7\\x05\\xe80\\x92\\xbb\\xbfI\\xeb\\x8d\\x08Yg\\x97z\\x16\\xee|]p+~o\\xb3\\xc7`_\\xde=\\xed\\xbe\\x04\\x19|j\\x19 \\xf6\\xb7\\xf6\\xcd\\x10Qk\\x82<a\\x86\\x08\\n\\x0c\\x17\\xdd\\x82\\x88\\x15\\xfe\\\\D\\x9d\\xabZl\\xee\\x94\\x9b\\xd8\\x9b6\\x0f\\x03\\x14FV\\xbd\\x13\\x93\\xe4\\x8d\\xc5\\xcf\\x89\\xb2\\'\\xfcw\\xca\\x1ew\\x01s\\x06\\x05\\x8f[\\xf1\\xfb\\x94:\\x9b(e\\xe7D\\x81\\xb3\\t\\xf7\\x1f,kzh\\x9e\\xdc\\xc0p\\x92\\xacs\\xd6yUs^\\xd5\\xf8\\xff\\xfb\\xaaf\\xd3^>\\xafe\\xcek\\x99\\xf3Z\\xc6\\xf5\\xf6\\xf5Aj\\x99\\xbc|\\x81\\xca&\\xef\\xf2\\xe8\\x9eO\\xbc\\xb1\\xe53!\\x94\\xee\\xcb\\x05\\xc5\\xbbBw}\\x04\\xbc\\xd1\\x8c\\x070\\xa8\\xdbQ\\xba\\'\\xb9j\\x01\\xce\"\\xf8\\x9a5\\x98,\\xdc\\x94#-\\xe3q&?\\'2\\xda\\x8f\\xd0\\x0cZCe\\xdd\\xc0\\x9c\\x8aL\\xf5Tx3&\\xa0c\\xa4\\x87u+\\x15\\x9f\\xd0\\xad\\xfbN\\xf3x\\x8f\\x8d\\xd3Ng\\xb9\\xac\\xba\\x9a\\xa9\\x0b\\x05\\x92\\xf9x)\\\\\\x8dC\\x97J\\xa6\\xe8Z=\\xef\\xde\\xad\\xd4\\xeb~\\xe8TwY\\x97\\x06(\\xd9\\xd3\\x18aLf\\x1bQu\\x18Q_\\x0eB\\x14^g\\x84^\\xd9\\x99X\\xd1tX\\xd1P\\xea\\x97\\xa1ZFq\\xe5\\n0m\\x15\\x15x\\xe5\\xf6\\xe0E\\xbd\\xe5\\x87A\\xdaA\\x86f\\x1c\\x94\\xe7c\\x15\\xa7\\xb4\\x99\\xbc\\x8c\\xae\\n\\xce\\x99Fz\\x933\\xa9\\x99\\x01Pb/3 \\x8ftS\\xd9\\xbaqyjui\\xaa\\xbdE\\xa4-#\\x8ct\\xb3\\x8d0\\xd20\\x82\\x17\\xe1,;\\xcd\\x96\\xfbY\\xc6\\xba\\x99\\x87\\xd42O\\xb9b\\xb9\\x1br3\\xea\\x8d\\x0f\\x11kE\"\\'\\xb8\\x81&&S\\xd0\\xc4;n\\xf9\\xb5j\\x08\\xb7*#4k\\xf9\\x13\\xe8\\x18\\xc3\\xd7x\\x06\\xb9#\\xd4[\\x17\\xa2S\\xb8v\\x19I\\x9en\\xf8wa\\x96\\x19\\x17\\xb2\\x87D\\x94:\\\\\\x93N\\xca\\x061\\x91\\x98{\\x94\\xc4-_-\\x7f\\x95\\r4\\xd1\\x1c\\xa2m+W\\x80\\x10>Z\\xe3\\x9a@+\\x1f\\x9bq\\x10t;\\xc8x2\\xc1#i\\x86\\xdd\\x18Q\\x9eN\\x1f\\x81\\xe1S\\xaep\\xfe\\xaa\\xc5\\xdf\\x1d\\xac$\\xd9\\x1c\\xc2\\xbd\\x1f\\x8d\\x8f\\xbd\\x03:\\xe77\\x11\\xa4XX/+\\x07\\x8e\\x89\\x80\\x8b\\x83r\\xea\\xcd1\\x81\\x9b\\xb0\\x15\\x91\\xe5\\xf9w\\xe2`\\xcah\\xd7\\xbc\\x8a\\xd29\\x94\\x8e#:\\x8bPv\\xa2\\x98d\\x9e\\xc25\\x89\\xae\\xcc\\xd1O+\\x1f\\x18O\\xd9\\x9a\\xc1\\xa1\\xeb.<\\x98\\xaa\\x03\\xf6\\xbdO\\xdd7\\x1f\\xd5\\xcas\\x06i\\xe6g\\xa6\\xc5*\\xea\\xd4t\\x93\\xe9\\x87;\\xe4\\r\\xab\\xf2C\\xd4\\xb2*\\xa5n\\xfdN-r\\xaek.\\xb9\\x0e\\x12\\xd5yJ\\xbc\\xe1\\xd4}\\x8b\\x03\\xc10-\\x9f\\xcc2MY\\xbcN\\xc3\\x8a\\xb3\\xb3Q\\xdb\\xb43,\\x08\\x0cO\\xd46\\xf8muF8=\\xf1\\xae\\'?\\xc8\\x9d\\xccZu@,\\xebJ\\x9d\\xf8\\xfa\\xca\\xdc\\xbc\\xd5f\\x07w\\x81<zp\\x7f8\\xa7R\\xe8PBo\\x97#(\\xfa\\xd2\\x1b\\xc8\\x946`\\x8b\\xdc\\x93Y\\x8d\\x08\\xdf\\xbc9\\'-\\xff~)l\\x07\\xddJ\\xd8-\\x94\\x1aa\\xbf\\x10T\\x83R\\xa1\\x11\\xb6\\xab\\x85v\\x18V\\xcb\\xfd\\xb0\\\\\\xeau*\\x0f\\xe0`\\x91Q\\\\\\x0e\\xd3\\xeb\\xfa\\x01\\\\a\\xd0Evi\\xaf\\xc7\\xd7.\\xee\\xe3\\xe5-\\xcd\\x85\\x11\\x8b\\x8bL_\\xcc\\x17\\xb5\\xe1\\xfa\\xe2\\xbe\\\\\\xd9|q\\xef\\x11 \\x9d\\xfb\\xb5\\xca\\xa0Ymvj\\x85f\\xb5=(\\x04\\xbdN\\xa3\\xd0\\xec\\xd6:\\x85^\\xad[\\xef\\rz\\xdd\\xb0\\xd1\\x1c<\\xf0\\xbd#\\r\\x0e\\xda\\xd5nP\\xeb7\\n\\xb5r\\xb7[\\x08j%e~\\xa3Y\\xa8\\x07\\x95J;\\xa8\\xb7\\x1b\\xfd\\xa0\\xfd +c`\\xe5)}d\\xbe\\x00\\xf7j\\xbb\\xb6\\xff\\x01\\x00\\x00\\xff\\xff\\x03\\x00PK\\x03\\x04\\x14\\x00\\x06\\x00\\x08\\x00\\x00\\x00!\\x00\\xa0\\x07\\xb9\\xd8_\\x08\\x00\\x00UA\\x00\\x00\\r\\x00\\x00\\x00xl/styles.xml\\xc4\\\\Yo\\xe36\\x10~/\\xd0\\xff \\x08\\xe8\\xa3\\xa3\\xdb\\xb6\\x02\\xdb\\x8b\\xd8\\x89\\xda\\x05\\xb6\\xe9\\x02\\x9b\\xa2}\\x95e\\xd9a\\xa3\\xc3\\x90\\xe8\\xad\\xdd\\xa2\\xff\\xbdC\\xea \\x19_t\\xa2\\x98\\x08v\\xd7R\\xcco\\xae\\x8f3\\xe4H\\xdc\\xd1\\xa7m\\x9ah\\xdf\\xe3\\xa2Dy6\\xd6\\xad\\x1bS\\xd7\\xe2,\\xca\\x17([\\x8d\\xf5\\xdf\\x9f\\x82\\xdeP\\xd7J\\x1cf\\x8b0\\xc9\\xb3x\\xac\\xef\\xe2R\\xff4\\xf9\\xf1\\x87Q\\x89wI\\xfc\\xed9\\x8e\\xb1\\x06\\x10Y9\\xd6\\x9f1^\\xdf\\x1aF\\x19=\\xc7iX\\xde\\xe4\\xeb8\\x83\\xdf,\\xf3\"\\r1\\\\\\x16+\\xa3\\\\\\x17q\\xb8(\\xc9\\xa041l\\xd3\\xec\\x1bi\\x882\\xbdB\\xb8M#\\x19\\x904,^6\\xeb^\\x94\\xa7\\xeb\\x10\\xa39J\\x10\\xdeQ,]K\\xa3\\xdb\\xcf\\xab,/\\xc2y\\x02\\xaan-7\\x8c\\xb4\\xad\\xd5/\\xecF\\x02\\xbd\\xb5\\'$EQ\\x91\\x97\\xf9\\x12\\xdf\\x00\\xa8\\x91/\\x97(\\x8a\\xf7u\\xf5\\r\\xdf\\x08#\\x86\\x04\\xb0oC\\xb2<\\xc3\\xb4+\\xc3\\'\\xa3e\\x9e\\xe1R\\x8b\\xf2M\\x86\\xc1\\xfd\\xe0l\\xaa\\xe2\\xedK\\x96\\xff\\x9d\\x05\\xe4wpW\\xaf\\xbe6\\x19\\x95\\xffh\\xdf\\xc3\\x04\\xeeX\\xba1\\x19Ey\\x92\\x17\\x1a\\x06o\\x83\\xb1\\xf4N\\x16\\xa6q\\xf5\\x8dY\\x98\\xa0y\\x81\\xc8\\xd7\\x96a\\x8a\\x92]u\\xdb&7h\\x80\\xea\\xef\\xa5\\x08\\xdcEn\\x1aD\\x11er\\x86{\\xf68\\xe4\\xce\\x9e=\\xda\\x17\\xb4z\\xc6\\xe7\\xad\\n\\xff:`\\xd5\\x9c\\xd8\\xdex\\xd0\\x93\\x94\\xf8F\\x0f\\n\\xb2\\xa8-B\\xb4\\x0e[\\xd7\\x85\\xac}ft*\\xeb\\x10\\x03\\x8b\\xd5|\\xac\\x07\\x01\\xccf\\xcb4\\x0f\\x86\\xadC\\x1a\\xd6\\xc2\\xfc\\x99\\t\\xf2\\xae&\\xcc\\x1b\\\\\\xcd2\\'p\\x82A\\xa7\\x96\\t\\\\\\xe4\\xf8Q\\xbb\\x92\\x08t\\x82.]yF`p7\\xb8\\xbf\\x9a;\\xbb\\x17v\\xcc\\xba:\\x11_k\\x06\\x90\\t\\xd7\\xad\\x17\\x11\\x9f\\x1f\\xf7y2\\x08\\xc8\\xcf5xr\\xe5\\x92\\xd6Q\\xc4h\\x05-\\xa1\\x84\\xa2$i+\\xba\\xe3\\x90\\xe2\\rw&#X\\xad\\xe0\\xb8\\xc8\\x02\\xb8\\xd0\\xea\\xcfO\\xbb5\\x94\\xee\\x0c\\x16V\\xc4\\xadF\\xf5\\xbd3\\xdf^\\x15\\xe1\\xce\\xb2i\\xf9\\x92\\x1bP\\xe6\\tZ\\x10-V3\\xba`\\xa8\\xa7\\xfd\\xac\\xff\\x10\\xcc\\x1e\\xa8\\\\N3Y-\\x8e\\x80\\x06\\xc1l\\xf0\\x01\\xa0\\x0fS\\x7f\\xd6\\xbd\\xa63\\xdf\\xef\\x1a\\xd4\\x0e\\xe0\\xa7c\\xd0;\\x8f\\xfctn>\\x84\\xaa3\\x9f\\xd6\\x13\\xd6\\xedJ\\xc9\\x16O\\xc3\\x88\\xac\\x8b\\xcd\\x9b\\x81\\xef\\xfbC\\xab?\\x1c\\x0e}\\xd7\\xb1\\\\\\x97:y^3\\x1ae\\x8bx\\x1b/\\xc6z\\xbf37\\xedk\\xe0\\x81\\x06\\xbe3\\xf4\\xfb6(b\\xbaC*\\xea\\xaa\\x1a8\\xa0\\xc0\\xc0\\xf3\\x86\\x9e\\xe5\\xdb.\\xfc\\xa1)\\xfa\\xe35\\xe8\\xda\\xa7\\x9e\\xae:\\xaa\\x9c\\x06\\x8a\\xa2\\xcai\\xa0(\\xaat\\x85it\\x90\\xf9\\xeb\\x99\\xd2W\\x1eUN\\x03EQ\\xe54P\\x14\\xd5A\\xc7\\x19x\\xa0<\\xaa\\x9c\\x06\\x8a\\xa2\\xcai\\xa0(\\xaa\\xb4;\\xd2\\xe1\\\\\\x85.\\x93\\xe2\\xba\\xcai\\xa0(\\xaa\\x9c\\x06\\x8a\\xa2\\xda\\xd9\\xe2\\xb3\\xce\\xc0\\xbe\\xf2\\xa8r\\x1a(\\x8a*\\xa7\\xc1\\xbb\\xa3JwW\\xb0\\x9f\\x9b\\xe7\\xc5\\x02\\xfa\\xe3m\\x8f\\xd6\\x84\\xbdTuo2J\\xe2%\\x86\\x9d[A\\xba\\x92\\xf0/\\xce\\xd7\\xf0\\xf7<\\xc7\\x18\\xfa\\xc8\\x93\\xd1\\x02\\x85\\xab<\\x0b\\x13\\xb2\\xb7kFH\\x8c\\x84~;\\xb4\\xd6\\xc7:~F\\xd1\\x0b\\x08\\x13:\\x87\\xd5\\x1a\\xbb\\x12\\xf1Q\\x12\\xda\\xec\\xe0\\x92U\\xb7;p\\xcd\\x81\\xeb\\xd9\\xfdjc\\xd3\\x91\\xe84^\\xa0M\\xbao]+\\xfb`\\xfc\\xc0\\x8d\\xc4\\xb7\\xe7\\r\\xe7|\\x98\\xb5B\\xea\\x9d/kd\\x18$~u\\xf8$G\\xd0P\\xd3HK\\x0e\\x00N4\\x94\\x90\\x1c\\xd1\\x85\\x8d\\xac\\xa9\\'k#7B\\xceFn\\x80\\xa4\\x8d\\xdc\\x88\\x8eX\\xb4\\xc87\\xf0\\xa8\\xe7u\\x80\\x83`h\\x9atwt1_\\x0e\\x03\\x9e\\xf6\\xe6\\xd91\\xfb\\xfe<;\\xe4\\x80G\\xcf\\x8e\\xe9\\x827S\\x9b\\xfc\\xd0U\\xa4\\xe4\\xdc\\xe0F\\xc8\\xf1\\x86\\x1b \\xc9\\x1bn\\xc4\\xdbxsp\\xe2\\tM\\x8b\\xf3\\xfe\\x16\\xbe~J\\x8d:\\xd5C\\xe5\\x88\\xe2$\\xf9Fr\\xf9\\x9f\\xcb\\xb6|@\\xe7b2\\xda.\\xb5l\\x93\\x06)\\xfe\\x0cM\\x0bx\\xe2J\\x9e\\xbd5\\x1f\\xa1=X\\x7f\\xacJEu\\x01%\\xe4\\xd8 x\\xb8IZ\\x86\\x07\\x06i\\xe1z\\x9d\\xec\\x1e7\\xe9<.\\x02\\xfa\\x18\\x96J\\xa3wI\\x1b\\x92]Mi\\x8dc\\xd7w\\tZeiL{/z\\x05\\xf3\\xb5\\xc8q\\x1ca\\xfa\\x98\\x98vL\\x8f\\xe9\\xe3\\x1c\\xd1\\xc7\\xaa\\x81d\\xf4y\\x8f|\\xf7\\x88|\\xf0\\x93\\xb4?\\xde#\\x1f\\xf6\\xf6\\x07\\xe3\\x01~Q*\\x1fx\\xa6\\x84\\x0f\\xb0+n\\xfc\\x01!\\xe0I}J\\x9f.\\x19\\t;\\xb8F\\x03\\x08\\x82\\n\\r`\\xb7\\xd1h\\x00\\xf4T\\xa1\\x01\\xac\\x8c\\x1b\\r\\x80\\xa0L\\x03P\\xe7\\x04+\\xde3\\x0f,\\x92\\xd8\\xea\\xc4\\x04\\x1c`\"A\\xfeG\\x89\\x84\\x1csP\\xe4\\x07Zy,\\xfd\\x82\\xc9W\\x99\\xee\\x16\\x97o\\x81\\xe8\\xcc\\xcdp\\xf1Qn>\\x96bU\\xa5\\x18.\\xec0\\xd3\\x98\\x0b\\xe0\\xe2T\\x0c\\xa0\\xeavS\\xf2\\xacc9_\\x99C\\xb8\\xa4\\x0b:0\\x8f@\\x1a\\xb8\\x0e+\\xb9\\x9c\\x0b2Ud<\\x8e\\x14$\\x15\\xa9V\\x01\\xd4Q\\xad\\x82\\xa2\\xf2kq\\\\ \\xd9J\\xb5\\x1b\\x14U`\\x9e\\x8fB\\t>\\x9d$\\xba\\\\\\x08\\xf1*\\x08%\\xf9\\x8a*\\xf0d\\x10\\xea\\x95\\x1a7\\x08\\xf5B\\x8d\\n\\xea\\xf3\\xa3\\xad*?rd\\x80\\xc7\\xd9\\xaa3\\x83\\xad*Ar;$\\xf5\\xf9\\xd1V\\x95\\x1fy2\\xa8O\\x90\\xb6\\xaa\\x04\\xc9\\x91A}~\\xb4U\\xe5G\\x9e\\x0c\\xea\\x13\\xa4\\xa3~\\x01\\xe9\\xa8\\xcf\\x8f\\xce\\x07\\xe7G\\x83o\\x98V\\xedS\\xaes\\xfa\\xb6\\xc6\\xa9\\xb6]\\x9e\\xed\\xa0Z\\xc7vK\\x10\\xf5fx\\xb5m\"\\'2\\xea\\xb3\\x16TYP\\x8fk\\xf3\\x8aM\\xde\\xd6\\x18\\x8d\\x1cc\\x18\\xeb\\xb6\\xf9\\x93\\xd6\\xd3\\xee\\xa2\\x08\\xda\\xaa\\x10\\xcb\\n\\xd8\"\\xdc\\xde\\xa0\\x04\\x9e\\xc7\\x135\\t\\xcf\\xa2M\\t\\x8f\\xb8\\xa6\\xd5\\xcdZ\\xd8),r\\xb8\\x85\\xdah\\x93\\xda\\xc1aA\\x1e\\xbf\\x14\\x0b\\x10j,\\x92z8,H\\x03\\x97b\\x81\\xf8\\n\\x8b2\\x97aA\\x07\\xfcb,(\\x075\\x16)\\x0c\\x1c\\x16D\\xeeR\\xbd`H\\x8d%\\xfa\\xde\\x93\\xf4\\xbd{(\\x8et\\x05\\xc5\\xf9\\x0b\\x02,\\xa3\\x17\\x8f\\xc5\\xe2H\\n0\\x87\\x05&_\\x8a\\xc5\\xe2H\\xf27\\x87\\x05&_\\x8a\\xc5\\xe2H\\xa6?\\xe7{\\x10r)\\x16\\x8b#\\xa9\\xae\\x1c\\x16\\xd0\\xedR\\xac6\\x8e.I\\xce\\x0c\\xcb\\x93\\xf4}\\xff`\\x1cI\\x96\\xe5\\xfc%\\xc9U\\x1e\\x8b\\xc5Q\\xe4\\xaa#\\xc9U\\x1e\\x8b\\xc5Q\\xe4*1Y\\xc6_<\\x16\\x8b\\xa3\\x98\\'\\\\\\xc9<\\xc1c\\xb18\\x8ay\\xc2\\x95\\xcc\\x13<\\x16\\x8b\\xa3\\xe8{O\\xd2\\xf7\\xaf3\\xaa\\xc8x[\\x92\\xf1\\x15\\n\\x8b\\x9d\\xc8ux\\x8d_\\xca\\xdf\\x15\\n\\x8b\\x9a\\xc8rG\\x92\\xe5\\x15\\n\\x8b\\x97\\xc8oW\\x92\\xdf\\x15\\n\\x8b\\x94\\x98U\\\\\\xc9\\xacR\\xa1\\xb0\\x9c)z\\xd7\\x95\\xf4\\xee4\\\\4YW$\\x8c-\\xe9\\x128\\xcf\\x18m\\x128\\xef\\x99\\x93\\xd3\\xa2\\xb4\\xdc\\xc1!H~\\xaa\\x92\\xcd\\x9b\\xcc\\x94\\x98=\\xc7\\xd1\\x8b6\\x83G\\xb3-\\x908\\x1fH\\x19\\x95\\x01z\\xd8\\xae\\x930\\x0bq^\\xec\\xb4\\xa7x\\x8b[81\\xe8\\x9e$\\xdc\\xcfy\\xde\\xfaHD ;\\x11\\x19\\x85~\\x81\\xb3\\xb5plWk\\x17\\x17\"\\x87\\xc9*\\xe7\\x12\\x98v.\\x88\\xee!\\xdd\\xbcK`\\xda\\xc9 \\xf2\\x8f\\x1cu\\xbd\\x04\\xa6\\x9d\\rbR%\\xeb\\'\\x19\\x98\\xcf\\xd9z\\xd3FH\\xcc\\xa5\\xa4t\\xcb@|A\\xd9K\\xbc\\x10\\x99#z\\x98\\xec\\x9ce\\x90\\x1e\\xe3\\r.\\xc2\\x96\\x7f\\xaf\\x12\\x96\\xa4c\\x1e\\xc9\\x03\\xfd\\x16CL\\x11\\xf4\\xf9\\xfc\\xeb5\\xe3#<\\xbfo9\\xfa\\xca\\x8b\\x92.\\xf8m\\x8397\\xd2\\xae:\\xab\\x95\\xa4\\x81#c\\xfd\\x13\\xc2\\xf0\\xcaN3\\x89\\x859L\\x9e\\xa3HA\\xe4\\x98\\x99N\\x08\\xc9\\x95l8\\x1a%\\x85\\xf1GXdd\\xb6\\x08S\\xf7\\x15G\\x8fX\\xc4\\xf6)\\xb0\\xfa_l\\xd9\\xcb\\x1d\\xd4\\xef\\x98\\x9c>\\xa7\\xaf}\\xb4\\xfb\\x01p\\xef\"^\\x86\\x9b\\x04?\\xb5\\xbf\\x1c\\xeb\\xec\\xf3\\xaf\\xf4e8 S\\xfd\\xad\\xaf\\xe8{\\x8e)\\xc4Xg\\x9f\\xe9\\xd9g\\x98\\xc5\\xf0.\\x08\\xa4\\x9b/%\\xbc\\xb9\\x06\\xffj\\x9b\\x02\\x8d\\xf5\\x7f\\x1f\\xa6\\x03\\xff\\xfe!\\xb0{Cs:\\xec\\xb9N\\xec\\xf5|oz\\xdf\\xf3\\xdc\\xd9\\xf4\\xfe>\\xf0M\\xdb\\x9c\\xfd\\xc7\\x1d\\x83\\x7f\\xc7!xzd\\x1f\\xdeG\\xb1\\xdc\\xdb2\\x81\\xa3\\xf2Eml\\xad\\xfc7vo\\xacs\\x17\\x95\\xfa\\xf4\\xd5\"P\\x9b\\xd7\\xdd\\xb7\\xfb\\xe6\\x9dg\\x99\\xbd\\xc01\\xad\\x9e\\xdb\\x0f\\x87\\xbda\\xdf\\xf1z\\x81g\\xd9\\xf7}w\\xfa\\xe0\\x05\\x1e\\xa7\\xbb\\xf7\\xc6c\\xf7\\xa6aY\\xcd\\xb1\\xfb\\xad\\xe5\\xddb\\x94\\xc6\\t\\xca\\x9aX5\\x11\\xe2\\xefB\\x90\\xe0\\xf2\\x84\\x11F\\x13\\t\\x83\\xfd\\x7f\\x08\\x93\\xff\\x01\\x00\\x00\\xff\\xff\\x03\\x00PK\\x03\\x04\\x14\\x00\\x06\\x00\\x08\\x00\\x00\\x00!\\x00\\xc2\\x96\\xc7R\\x1e\\x03\\x00\\x00f\\x08\\x00\\x00\\x18\\x00\\x00\\x00xl/worksheets/sheet1.xml\\x94VMs\\xda0\\x10\\xbdw\\xa6\\xffA\\xa3{\\xfcA\\x8c!\\x0c\\x90i0\\x99\\xe6\\xd0N\\xa7\\xe9\\xc7Y\\xc82\\xd6\\xc4\\xb6\\\\I\\x84$\\xbf\\xbe+\\t\\x1b#2m\\xc2\\x01[\\xd2\\xf3\\xdb\\xf7\\xb4\\xeb\\x95\\xe7\\xd7Ou\\x85\\x1e\\x99T\\\\4\\x0b\\x1c\\x07\\x11F\\xac\\xa1\"\\xe7\\xcdv\\x81\\x7f\\xfe\\xb8\\xbd\\x98b\\xa44irR\\x89\\x86-\\xf03S\\xf8z\\xf9\\xf1\\xc3|/\\xe4\\x83*\\x19\\xd3\\x08\\x18\\x1a\\xb5\\xc0\\xa5\\xd6\\xed,\\x0c\\x15-YMT Z\\xd6\\xc0J!dM4\\x0c\\xe56T\\xadd$\\xb7\\x0f\\xd5U8\\x8a\\xa24\\xac\\to\\xb0c\\x98\\xc9\\xb7p\\x88\\xa2\\xe0\\x94e\\x82\\xeej\\xd6hG\"YE4\\xe8W%oU\\xc7V\\xd3\\xb7\\xd0\\xd5D>\\xec\\xda\\x0b*\\xea\\x16(6\\xbc\\xe2\\xfa\\xd9\\x92bT\\xd3\\xd9\\xdd\\xb6\\x11\\x92l*\\xf0\\xfd\\x14\\'\\x84v\\xdcvpF_s*\\x85\\x12\\x85\\x0e\\x80.tB\\xcf=_\\x85W!0-\\xe79\\x07\\x07f\\xdb\\x91d\\xc5\\x02\\x7f\\x8ag\\xeb\\x14\\x87\\xcb\\xb9\\xdd\\x9f_\\x9c\\xed\\xd5\\xe0\\x1ei\\xb2\\xb9g\\x15\\xa3\\x9a\\xe5\\x90&\\x8c^\\x84\\xa8\\xef)1\\xd2\\xe2\\x14\\x92\\xd6\\x8f\\xbf\\x9a\\r\\xaf\\x0e\\xb3&I\\x1b!\\x1e\\x0c\\xdd\\x1d<\\x18A\\\\eiL\\\\B5\\x7fd+V\\x01<\\x8bG\\x90\\xe8?V\\x8a\\xb9\\x07!a\\xafdx\\xdf\\xa9\\xba\\xb5\\x89\\xfd&Q\\xce\\n\\xb2\\xab\\xf4w\\xb1\\xff\\xcc\\xf8\\xb6\\xd4\\x10z\\x0c\\x1be\\xf6k\\x96?gLQH\\x14\\x84\\x0eFc\\xc3JE\\x05\\x14\\xf0\\x8fj\\x0e\\x15\\x07Qk\\xf2d\\xaf{\\x9e\\xeb\\x12\\x9e\\x1e\\x05\\xc9h<\\x99\\xc6\\x80G\\x1b\\xa6\\xf4-7\\x9c\\x18\\xd1\\x9d\\xd2\\xa2\\xfe}@\\x1d\\xb8\\x1c\\x0b -\\x0b\\\\;\\x96q\\x10\\'Q\\xfa\\x7f\\x8e\\xd0\\t\\xb2^3\\xa2\\xc9r.\\xc5\\x1eA-BD\\xd5\\x12S\\xd9\\xf1\\x0cx\\xcd\\xb5\\xd3\\xe0\\xbc\\xdb\\x89\\xd7}\\x82AC\\xf1\\xc9pX\\x188P\\xb0\\xf7\\x8f\\xcb\\xd1<|\\x84\\xed\\xa4\\x07\\xc4\\xcd9\":E\\xac\\xce\\x11\\xe9)\";G\\xc4\\xa7\\x88\\xf59b\\xd2#B\\xf0\\xdb\\x9b6E00\\xfdow\\x00\\xee}]z\\xbeF\\xce\\xed$\\x98z\\x8eWnez\\x14`\\xb7*;L\\'cO\\xfa0\\xc8\\xf4u\\xd1\\x97\\xef\\x11\\r\\xe0^t\\xe2\\x89\\xbe\\xb4\\xa2\\x93 \\x8d\\xa3\\xe1\\xcf\\xf3\\xb6:\\xc0\\xa6\\xde\\xe3\\x99\\x9bO}\\x07\\xc3\\x88W\\xaf;H\\xde\\xe3\\x00\\xc0\\xbd\\x03/\\xd6Mb\\x1d\\\\x\\xf9_\\xb9\\xe9\\xa9\\x87\\xce\\xdct\\xea\\xf9X\\x0f\\x03\\xc4\\xc7r<)\\x14\\xf3F\\xbc\\xb9P\\x00\\xdc+\\x8e=m7\\'\\x8b~\\xb1\\x8c\\xad\\x9f\\xb1\\xf7Ndn:\\x8eF^j\\xd6\\'d\\xc7\\xc5\\x13\\xe9\\xe9{\\xa4\\x03\\xf8(\\xdd\\xaf\\x97\\xd4\\xa9\\x0b\\xbc\\x17r\\xe5\\xe6\\xfd,dC\\xaec!\\xd8\\xf2\\x87\\xd6?\\x88s\\xcc\\x93\\x13\\xee:\\xb1\\xebN-\\xd9\\xb2/Dny\\xa3P\\xc5\\n\\xdbY\\'\\x18I\\xd7z\\xa3\\x00\\xee\\xb5hM\\xbf\\x9d\\x98\\xfe)4\\xf4\\xccnT\\xc2\\xf1\\xcb\\xa0/E\\x01\\xd4d!\\x84\\xee\\x06\\xd0\\x97\\r\\xef=\\xd3\\xbb\\x16\\t\\xc9\\xa1c\\xdb\\x13u\\x81[!\\xb5$\\\\cT\\xc2\\xfc\\x8b\\x80\\x85*k\\xb99J\\xccg\\x83\\xe6p\\x06uc9\\xe3p\\xc6\\xc8\\xbb<\\xb6\\xc7G\\xff\\x85\\xb0\\xfc\\x0b\\x00\\x00\\xff\\xff\\x03\\x00PK\\x03\\x04\\x14\\x00\\x06\\x00\\x08\\x00\\x00\\x00!\\x00_\\xa0\\xaf\\xfcE\\x01\\x00\\x00]\\x02\\x00\\x00\\x11\\x00\\x08\\x01docProps/core.xml \\xa2\\x04\\x01(\\xa0\\x00\\x01\\x00\\x00\\x00\\x00\\x00\\x00\\x00\\x00\\x00\\x00\\x00\\x00\\x00\\x00\\x00\\x00\\x00\\x00\\x00\\x00\\x00\\x00\\x00\\x00\\x00\\x00\\x00\\x00\\x00\\x00\\x00\\x00\\x00\\x00\\x00\\x00\\x00\\x00\\x00\\x00\\x00\\x00\\x00\\x00\\x00\\x00\\x00\\x00\\x00\\x00\\x00\\x00\\x00\\x00\\x00\\x00\\x00\\x00\\x00\\x00\\x00\\x00\\x00\\x00\\x00\\x00\\x00\\x00\\x00\\x00\\x00\\x00\\x00\\x00\\x00\\x00\\x00\\x00\\x00\\x00\\x00\\x00\\x00\\x00\\x00\\x00\\x00\\x00\\x00\\x00\\x00\\x00\\x00\\x00\\x00\\x00\\x00\\x00\\x00\\x00\\x00\\x00\\x00\\x00\\x00\\x00\\x00\\x00\\x00\\x00\\x00\\x00\\x00\\x00\\x00\\x00\\x00\\x00\\x00\\x00\\x00\\x00\\x00\\x00\\x00\\x00\\x00\\x00\\x00\\x00\\x00\\x00\\x00\\x00\\x00\\x00\\x00\\x00\\x00\\x00\\x00\\x00\\x00\\x00\\x00\\x00\\x00\\x00\\x00\\x00\\x00\\x00\\x00\\x00\\x00\\x00\\x00\\x00\\x00\\x00\\x00\\x00\\x00\\x00\\x00\\x00\\x00\\x00\\x00\\x00\\x00\\x00\\x00\\x00\\x00\\x00\\x00\\x00\\x00\\x00\\x00\\x00\\x00\\x00\\x00\\x00\\x00\\x00\\x00\\x00\\x00\\x00\\x00\\x00\\x00\\x00\\x00\\x00\\x00\\x00\\x00\\x00\\x00\\x00\\x00\\x00\\x00\\x00\\x00\\x00\\x00\\x00\\x00\\x00\\x00\\x00\\x00\\x00\\x00\\x00\\x00\\x00\\x00\\x00\\x00\\x00\\x00\\x00\\x00\\x00\\x00\\x00\\x00\\x00\\x00\\x00\\x00\\x00\\x00\\x00\\x00\\x00\\x00\\x00\\x00\\x00\\x00\\x00\\x00\\x00\\x00\\x00\\x00\\x00\\x00\\x00\\x84\\x92_K\\xc30\\x14\\xc5\\xdf\\x05\\xbfC\\xc9{\\x9b\\xa6\\x9bNC\\xdb\\x81\\xca\\x9e\\x1c\\x08V\\x14\\xdfBr\\xb7\\x15\\x9b?$\\xd1n\\xdf\\xde\\xb4\\xddje\\x82\\x8f\\xb9\\xe7\\xdc\\xdf=\\xf7\\x92|\\xb9\\x97M\\xf4\\x05\\xd6\\xd5Z\\x15\\x88$)\\x8a@q-j\\xb5-\\xd0K\\xb5\\x8aoP\\xe4<S\\x825ZA\\x81\\x0e\\xe0\\xd0\\xb2\\xbc\\xbc\\xc8\\xb9\\xa1\\\\[x\\xb2\\xda\\x80\\xf55\\xb8(\\x90\\x94\\xa3\\xdc\\x14h\\xe7\\xbd\\xa1\\x18;\\xbe\\x03\\xc9\\\\\\x12\\x1c*\\x88\\x1bm%\\xf3\\xe1i\\xb7\\xd80\\xfe\\xc1\\xb6\\x80\\xb34\\xbd\\xc6\\x12<\\x13\\xcc3\\xdc\\x01c3\\x12\\xd1\\x11)\\xf8\\x884\\x9f\\xb6\\xe9\\x01\\x82ch@\\x82\\xf2\\x0e\\x93\\x84\\xe0\\x1f\\xaf\\x07+\\xdd\\x9f\\r\\xbd2q\\xca\\xda\\x1fL\\xd8\\xe9\\x18w\\xca\\x16|\\x10G\\xf7\\xde\\xd5\\xa3\\xb1m\\xdb\\xa4\\x9d\\xf51B~\\x82\\xdf\\xd6\\x8f\\xcf\\xfd\\xaaq\\xad\\xba[q@e.8\\xe5\\x16\\x98\\xd7\\xb6l\\x80Yer<)u\\xe7k\\x98\\xf3\\xebp\\xe9M\\r\\xe2\\xee0\\xba\\xce\\x95\\xc0\\xea\\xa3\\x0f@\\x10Q\\x08C\\x87\\xe8\\'\\xe5uv\\xffP\\xadP\\x99\\xa5d\\x11\\xa7$\\xcen\\xab\\x94\\xd0\\xd9\\x9cf\\xd7\\xef\\xdd\\xe0_\\xfd]\\xb8\\xa1 \\x8f\\xe3\\xff%fq:\\xaf\\xc8\\x82f\\x0bzE&\\xc4\\x13\\xa0\\xcc\\xf1\\xd9\\x87(\\xbf\\x01\\x00\\x00\\xff\\xff\\x03\\x00PK\\x03\\x04\\x14\\x00\\x06\\x00\\x08\\x00\\x00\\x00!\\x00\\x8fm\\xa1\\x99\\xd9\\x01\\x00\\x00P\\r\\x00\\x00\\'\\x00\\x00\\x00xl/printerSettings/printerSettings1.bin\\xecV;K\\x03A\\x10\\xfe6\\x9e&\\xa8`*\\x1f]D!\\x8d\\xc2a\\x93R\\xcdK\\xc5\\x18\\xc5G\\xb4\\x0b\\x01\\x0f\\x0c\\x04\\x13\\x92\\xfc\\tK\\xf1\\x0f\\xf83R\\xdb\\t\\xa9,%e*k\\x1f`\\xe1\\xf9\\xed\\xee\\xe5q\\xa8A\\xc9)\\xa2\\xd9a73\\xbb7\\xcf\\x9d\\x9dI\\x14e\\x14Q\\xc5\\t,b!l!\\x89\\x18\\x16\\x91\\xc2\\x12\"0\\tq\\x1cr\\xbf\\xa2\\xce\\xf3\\\\+\\xe8\\x1e\\xc2\\x08\\x88\\x06\\xaa\\xe3\\x13\\x17\\x02\\x12\\xeeF\\x8b\\x81c\\xfe\\xfaq\\xe4\\x93\\xb4\\\\Ai\\x16uT\\x95\\x0c\\x17\\xfb\\x8f\\x10O\\xe7\\xe5\\xeb\\x8e\"_\\x1b\\x15x4\\x9ei\\x9f\\\\\\xbd0\\x84\\x9eJg[+F\\x88\\xfa\\t][\\x90\\x8aT`\\xc4\\xa4VI\\x0e\\xb9\\xa7\\xbf\"2\\x034\\xc7\\xf5Qm\\x0c(Mi\\xbc1\\x0c\\xc6\\xd2m\\xe5\\x8b\\xfd\\xb1\\xd5\\x11\\xca\\xb8\\xe5\\x0c\\x86\\xdd\\xf3r\\x14\\xb8\\xa2a5\\xce\\x05\\x03X\\xa1\\xfe\\x1b\\x8a\\x99V\\xa2\\x82a\\t\\x9a\\xe3\\xadl\\xed\\x9cc\\x84\\xd0\\xd4\\xc7\\x16\\xfc\\xc9\\x13\\xc7i\\x9d\\xeb\\xc3\\x1e\\x87\\xc0\\xe68\\xf68l\\xf5z\\xbd\\xa7\\xc4U\\xbe\\xfa<r(\\xf4\\xa1w`3\\xf0\\xfdq\\x969\\xd7\\x89\\xf4\\xb3\\xef\\xd1\\x18re\\xa3\\xbc@\\x9f\\xaa\\xc1j\\xfb\\x97\\xbc\\xcfyZ\\xf5\\xc0\\xbc~\\'\\xbd\\x94\\x99^\\xe4\\x9f\\x14\\xdfz\\x8a?Y\\x95\\x84\\x08@\\x08\\xb3]\\xef\\xbf\\xf4\\x84x?\\xaa\\x17\\x90I\\xde\\xac\\xac\\xba\\xfd\\x8c\\x90\\xc3\\x9cH\\xaf\\xa56\\xf6\\xd6{\\x8a\\xda\\xd9\\xdd\\xc8\\x08\\x1b\\xc9\\xd8bj)b\\x9a\\xf1\\xc3P\\xc5*\\xe7\\xadVc_\\xeef\\x9eU\\xc4};\\xac6\\xb1\\xb3`\\xef\\xe9R\\xce\\x1e&\\xfbI\\x93\\xbd\\xa6\\xc0\\xfe\\x9fc\\xbd9E\\xa9?g\\x07\\xdc\\xbf8\\x02q$\\xb0\\x87M\\xecc\\x1b;\\xfc\\'\\x99A\\x1a\\xeb\\xa42\\x84\\xe8g\\xedv\\xf2M\\xd7;Md1GHS\\xea\\x01\\xe5\\'\\x14\\x95Ev\\x90\\x0b\\xff.\\x02\\x9ed\\xd87E\\xed\\x15\\x00\\x00\\xff\\xff\\x03\\x00PK\\x03\\x04\\x14\\x00\\x06\\x00\\x08\\x00\\x00\\x00!\\x00)\\x0f\\xf5\\xc6}\\x01\\x00\\x00\\xfe\\x02\\x00\\x00\\x10\\x00\\x08\\x01docProps/app.xml \\xa2\\x04\\x01(\\xa0\\x00\\x01\\x00\\x00\\x00\\x00\\x00\\x00\\x00\\x00\\x00\\x00\\x00\\x00\\x00\\x00\\x00\\x00\\x00\\x00\\x00\\x00\\x00\\x00\\x00\\x00\\x00\\x00\\x00\\x00\\x00\\x00\\x00\\x00\\x00\\x00\\x00\\x00\\x00\\x00\\x00\\x00\\x00\\x00\\x00\\x00\\x00\\x00\\x00\\x00\\x00\\x00\\x00\\x00\\x00\\x00\\x00\\x00\\x00\\x00\\x00\\x00\\x00\\x00\\x00\\x00\\x00\\x00\\x00\\x00\\x00\\x00\\x00\\x00\\x00\\x00\\x00\\x00\\x00\\x00\\x00\\x00\\x00\\x00\\x00\\x00\\x00\\x00\\x00\\x00\\x00\\x00\\x00\\x00\\x00\\x00\\x00\\x00\\x00\\x00\\x00\\x00\\x00\\x00\\x00\\x00\\x00\\x00\\x00\\x00\\x00\\x00\\x00\\x00\\x00\\x00\\x00\\x00\\x00\\x00\\x00\\x00\\x00\\x00\\x00\\x00\\x00\\x00\\x00\\x00\\x00\\x00\\x00\\x00\\x00\\x00\\x00\\x00\\x00\\x00\\x00\\x00\\x00\\x00\\x00\\x00\\x00\\x00\\x00\\x00\\x00\\x00\\x00\\x00\\x00\\x00\\x00\\x00\\x00\\x00\\x00\\x00\\x00\\x00\\x00\\x00\\x00\\x00\\x00\\x00\\x00\\x00\\x00\\x00\\x00\\x00\\x00\\x00\\x00\\x00\\x00\\x00\\x00\\x00\\x00\\x00\\x00\\x00\\x00\\x00\\x00\\x00\\x00\\x00\\x00\\x00\\x00\\x00\\x00\\x00\\x00\\x00\\x00\\x00\\x00\\x00\\x00\\x00\\x00\\x00\\x00\\x00\\x00\\x00\\x00\\x00\\x00\\x00\\x00\\x00\\x00\\x00\\x00\\x00\\x00\\x00\\x00\\x00\\x00\\x00\\x00\\x00\\x00\\x00\\x00\\x00\\x00\\x00\\x00\\x00\\x00\\x00\\x00\\x00\\x00\\x00\\x00\\x00\\x00\\x00\\x00\\x00\\x00\\x00\\x00\\x00\\x00\\x00\\x9c\\x92\\xcbN\\xc30\\x10E\\xf7H\\xfcC\\xe4=u\\n\\x08\\xa1\\xca1B<\\xc4\\x02D\\xa5\\x16X\\x1bg\\xd2X\\xb8v\\xe4\\x19\\xa2\\x96\\xafg\\x92\\x88\\x92\\x02+v\\xf3\\xb8\\xba>\\xbe\\xb6\\xba\\xd8\\xac}\\xd6BB\\x17C!\\xa6\\x93\\\\d\\x10l,]X\\x15\\xe2iy{t.2$\\x13J\\xe3c\\x80Bl\\x01\\xc5\\x85><P\\xf3\\x14\\x1bH\\xe4\\x003\\xb6\\x08X\\x88\\x9a\\xa8\\x99I\\x89\\xb6\\x86\\xb5\\xc1\\t\\xaf\\x03o\\xaa\\x98\\xd6\\x86\\xb8M+\\x19\\xab\\xcaY\\xb8\\x8e\\xf6}\\r\\x81\\xe4q\\x9e\\x9fI\\xd8\\x10\\x84\\x12\\xca\\xa3fg(\\x06\\xc7YK\\xff5-\\xa3\\xed\\xf8\\xf0y\\xb9m\\x18X\\xab\\xcb\\xa6\\xf1\\xce\\x1a\\xe2[\\xea\\x07gS\\xc4XQv\\xb3\\xb1\\xe0\\x95\\x1c/\\x15\\xd3-\\xc0\\xbe\\'G[\\x9d+9n\\xd5\\xc2\\x1a\\x0fWl\\xac+\\xe3\\x11\\x94\\xfc\\x1e\\xa8;0]hs\\xe3\\x12j\\xd5\\xd2\\xac\\x05K1e\\xe8>8\\xb6c\\x91\\xbd\\x1a\\x84\\x0e\\xa7\\x10\\xadI\\xce\\x04b\\xacN64}\\xed\\x1b\\xa4\\xa4_bz\\xc3\\x1a\\x80PI\\x16\\x0c\\xc3\\xbe\\x1ck\\xc7\\xb5;\\xd5\\xd3^\\xc0\\xc5\\xbe\\xb03\\x18@x\\xb1\\x8f\\xb8t\\xe4\\x01\\x1f\\xab\\xb9I\\xf4\\x07\\xf1tL\\xdc3\\x0c\\xbc\\x03\\xce\\xa2\\xe3\\x1b\\xce\\x1c\\xf3\\xf5W\\xe6\\x93~x\\xdf\\xbb\\xf0\\x86O\\xcd2^\\x1b\\x82\\xaf\\xec\\xf6\\x87jQ\\x9b\\x04%\\xc7\\xbd\\xcbv7Pw\\x1c[\\xf2\\x9d\\xc9Um\\xc2\\n\\xca/\\xcd\\xefE\\xf7\\xd2\\xcf\\xc3w\\xd6\\xd3\\xb3I~\\x92\\xf3#\\x8efJ~\\x7f\\\\\\xfd\\t\\x00\\x00\\xff\\xff\\x03\\x00PK\\x01\\x02-\\x00\\x14\\x00\\x06\\x00\\x08\\x00\\x00\\x00!\\x00A7\\x82\\xcfn\\x01\\x00\\x00\\x04\\x05\\x00\\x00\\x13\\x00\\x00\\x00\\x00\\x00\\x00\\x00\\x00\\x00\\x00\\x00\\x00\\x00\\x00\\x00\\x00\\x00[Content_Types].xmlPK\\x01\\x02-\\x00\\x14\\x00\\x06\\x00\\x08\\x00\\x00\\x00!\\x00\\xb5U0#\\xf4\\x00\\x00\\x00L\\x02\\x00\\x00\\x0b\\x00\\x00\\x00\\x00\\x00\\x00\\x00\\x00\\x00\\x00\\x00\\x00\\x00\\xa7\\x03\\x00\\x00_rels/.relsPK\\x01\\x02-\\x00\\x14\\x00\\x06\\x00\\x08\\x00\\x00\\x00!\\x00\\x81>\\x94\\x97\\xf3\\x00\\x00\\x00\\xba\\x02\\x00\\x00\\x1a\\x00\\x00\\x00\\x00\\x00\\x00\\x00\\x00\\x00\\x00\\x00\\x00\\x00\\xcc\\x06\\x00\\x00xl/_rels/workbook.xml.relsPK\\x01\\x02-\\x00\\x14\\x00\\x06\\x00\\x08\\x00\\x00\\x00!\\x00\\x0c\\xed\\xb1\\x14\\xe9\\x01\\x00\\x00\\xd5\\x03\\x00\\x00\\x0f\\x00\\x00\\x00\\x00\\x00\\x00\\x00\\x00\\x00\\x00\\x00\\x00\\x00\\xff\\x08\\x00\\x00xl/workbook.xmlPK\\x01\\x02-\\x00\\x14\\x00\\x06\\x00\\x08\\x00\\x00\\x00!\\x00L\\xa6V\\xcd\\x17\\x01\\x00\\x00#\\x02\\x00\\x00\\x14\\x00\\x00\\x00\\x00\\x00\\x00\\x00\\x00\\x00\\x00\\x00\\x00\\x00\\x15\\x0b\\x00\\x00xl/sharedStrings.xmlPK\\x01\\x02-\\x00\\x14\\x00\\x06\\x00\\x08\\x00\\x00\\x00!\\x00;m2K\\xc1\\x00\\x00\\x00B\\x01\\x00\\x00#\\x00\\x00\\x00\\x00\\x00\\x00\\x00\\x00\\x00\\x00\\x00\\x00\\x00^\\x0c\\x00\\x00xl/worksheets/_rels/sheet1.xml.relsPK\\x01\\x02-\\x00\\x14\\x00\\x06\\x00\\x08\\x00\\x00\\x00!\\x00\\xc1\\x17\\x10\\xbeN\\x07\\x00\\x00\\xc6 \\x00\\x00\\x13\\x00\\x00\\x00\\x00\\x00\\x00\\x00\\x00\\x00\\x00\\x00\\x00\\x00`\\r\\x00\\x00xl/theme/theme1.xmlPK\\x01\\x02-\\x00\\x14\\x00\\x06\\x00\\x08\\x00\\x00\\x00!\\x00\\xa0\\x07\\xb9\\xd8_\\x08\\x00\\x00UA\\x00\\x00\\r\\x00\\x00\\x00\\x00\\x00\\x00\\x00\\x00\\x00\\x00\\x00\\x00\\x00\\xdf\\x14\\x00\\x00xl/styles.xmlPK\\x01\\x02-\\x00\\x14\\x00\\x06\\x00\\x08\\x00\\x00\\x00!\\x00\\xc2\\x96\\xc7R\\x1e\\x03\\x00\\x00f\\x08\\x00\\x00\\x18\\x00\\x00\\x00\\x00\\x00\\x00\\x00\\x00\\x00\\x00\\x00\\x00\\x00i\\x1d\\x00\\x00xl/worksheets/sheet1.xmlPK\\x01\\x02-\\x00\\x14\\x00\\x06\\x00\\x08\\x00\\x00\\x00!\\x00_\\xa0\\xaf\\xfcE\\x01\\x00\\x00]\\x02\\x00\\x00\\x11\\x00\\x00\\x00\\x00\\x00\\x00\\x00\\x00\\x00\\x00\\x00\\x00\\x00\\xbd \\x00\\x00docProps/core.xmlPK\\x01\\x02-\\x00\\x14\\x00\\x06\\x00\\x08\\x00\\x00\\x00!\\x00\\x8fm\\xa1\\x99\\xd9\\x01\\x00\\x00P\\r\\x00\\x00\\'\\x00\\x00\\x00\\x00\\x00\\x00\\x00\\x00\\x00\\x00\\x00\\x00\\x009#\\x00\\x00xl/printerSettings/printerSettings1.binPK\\x01\\x02-\\x00\\x14\\x00\\x06\\x00\\x08\\x00\\x00\\x00!\\x00)\\x0f\\xf5\\xc6}\\x01\\x00\\x00\\xfe\\x02\\x00\\x00\\x10\\x00\\x00\\x00\\x00\\x00\\x00\\x00\\x00\\x00\\x00\\x00\\x00\\x00W%\\x00\\x00docProps/app.xmlPK\\x05\\x06\\x00\\x00\\x00\\x00\\x0c\\x00\\x0c\\x00&\\x03\\x00\\x00\\n(\\x00\\x00\\x00\\x00'}"
            ]
          },
          "metadata": {},
          "execution_count": 33
        }
      ]
    },
    {
      "cell_type": "code",
      "metadata": {
        "colab": {
          "base_uri": "https://localhost:8080/",
          "height": 204
        },
        "id": "iRb9an3diZk7",
        "outputId": "39d9c5c0-6946-4fae-c608-ad68cd032bce"
      },
      "source": [
        "#Read CSV\n",
        "df = pd.read_csv(\"stock_data.csv\")\n",
        "df"
      ],
      "execution_count": 12,
      "outputs": [
        {
          "output_type": "execute_result",
          "data": {
            "text/html": [
              "<div>\n",
              "<style scoped>\n",
              "    .dataframe tbody tr th:only-of-type {\n",
              "        vertical-align: middle;\n",
              "    }\n",
              "\n",
              "    .dataframe tbody tr th {\n",
              "        vertical-align: top;\n",
              "    }\n",
              "\n",
              "    .dataframe thead th {\n",
              "        text-align: right;\n",
              "    }\n",
              "</style>\n",
              "<table border=\"1\" class=\"dataframe\">\n",
              "  <thead>\n",
              "    <tr style=\"text-align: right;\">\n",
              "      <th></th>\n",
              "      <th>tickers</th>\n",
              "      <th>eps</th>\n",
              "      <th>revenue</th>\n",
              "      <th>price</th>\n",
              "      <th>people</th>\n",
              "    </tr>\n",
              "  </thead>\n",
              "  <tbody>\n",
              "    <tr>\n",
              "      <th>0</th>\n",
              "      <td>GOOGL</td>\n",
              "      <td>27.82</td>\n",
              "      <td>87</td>\n",
              "      <td>845</td>\n",
              "      <td>larry page</td>\n",
              "    </tr>\n",
              "    <tr>\n",
              "      <th>1</th>\n",
              "      <td>WMT</td>\n",
              "      <td>4.61</td>\n",
              "      <td>484</td>\n",
              "      <td>65</td>\n",
              "      <td>n.a.</td>\n",
              "    </tr>\n",
              "    <tr>\n",
              "      <th>2</th>\n",
              "      <td>MSFT</td>\n",
              "      <td>-1</td>\n",
              "      <td>85</td>\n",
              "      <td>64</td>\n",
              "      <td>bill gates</td>\n",
              "    </tr>\n",
              "    <tr>\n",
              "      <th>3</th>\n",
              "      <td>RIL</td>\n",
              "      <td>not available</td>\n",
              "      <td>50</td>\n",
              "      <td>1023</td>\n",
              "      <td>mukesh ambani</td>\n",
              "    </tr>\n",
              "    <tr>\n",
              "      <th>4</th>\n",
              "      <td>TATA</td>\n",
              "      <td>5.6</td>\n",
              "      <td>-1</td>\n",
              "      <td>n.a.</td>\n",
              "      <td>ratan tata</td>\n",
              "    </tr>\n",
              "  </tbody>\n",
              "</table>\n",
              "</div>"
            ],
            "text/plain": [
              "  tickers            eps  revenue price         people\n",
              "0   GOOGL          27.82       87   845     larry page\n",
              "1     WMT           4.61      484    65           n.a.\n",
              "2    MSFT             -1       85    64     bill gates\n",
              "3    RIL   not available       50  1023  mukesh ambani\n",
              "4    TATA            5.6       -1  n.a.     ratan tata"
            ]
          },
          "metadata": {},
          "execution_count": 12
        }
      ]
    },
    {
      "cell_type": "code",
      "metadata": {
        "colab": {
          "base_uri": "https://localhost:8080/",
          "height": 235
        },
        "id": "9KTtWCQegRLK",
        "outputId": "d9bfa0c6-cc44-41fc-8f6e-81d04a096101"
      },
      "source": [
        "df = pd.read_csv(\"stock_data(1).csv\")\n",
        "df"
      ],
      "execution_count": 11,
      "outputs": [
        {
          "output_type": "execute_result",
          "data": {
            "text/html": [
              "<div>\n",
              "<style scoped>\n",
              "    .dataframe tbody tr th:only-of-type {\n",
              "        vertical-align: middle;\n",
              "    }\n",
              "\n",
              "    .dataframe tbody tr th {\n",
              "        vertical-align: top;\n",
              "    }\n",
              "\n",
              "    .dataframe thead th {\n",
              "        text-align: right;\n",
              "    }\n",
              "</style>\n",
              "<table border=\"1\" class=\"dataframe\">\n",
              "  <thead>\n",
              "    <tr style=\"text-align: right;\">\n",
              "      <th></th>\n",
              "      <th>stocks data</th>\n",
              "      <th>Unnamed: 1</th>\n",
              "      <th>Unnamed: 2</th>\n",
              "      <th>Unnamed: 3</th>\n",
              "      <th>Unnamed: 4</th>\n",
              "    </tr>\n",
              "  </thead>\n",
              "  <tbody>\n",
              "    <tr>\n",
              "      <th>0</th>\n",
              "      <td>tickers</td>\n",
              "      <td>eps</td>\n",
              "      <td>revenue</td>\n",
              "      <td>price</td>\n",
              "      <td>people</td>\n",
              "    </tr>\n",
              "    <tr>\n",
              "      <th>1</th>\n",
              "      <td>GOOGL</td>\n",
              "      <td>27.82</td>\n",
              "      <td>87</td>\n",
              "      <td>845</td>\n",
              "      <td>larry page</td>\n",
              "    </tr>\n",
              "    <tr>\n",
              "      <th>2</th>\n",
              "      <td>WMT</td>\n",
              "      <td>4.61</td>\n",
              "      <td>484</td>\n",
              "      <td>65</td>\n",
              "      <td>n.a.</td>\n",
              "    </tr>\n",
              "    <tr>\n",
              "      <th>3</th>\n",
              "      <td>MSFT</td>\n",
              "      <td>-1</td>\n",
              "      <td>85</td>\n",
              "      <td>64</td>\n",
              "      <td>bill gates</td>\n",
              "    </tr>\n",
              "    <tr>\n",
              "      <th>4</th>\n",
              "      <td>RIL</td>\n",
              "      <td>not available</td>\n",
              "      <td>50</td>\n",
              "      <td>1023</td>\n",
              "      <td>mukesh ambani</td>\n",
              "    </tr>\n",
              "    <tr>\n",
              "      <th>5</th>\n",
              "      <td>TATA</td>\n",
              "      <td>5.6</td>\n",
              "      <td>-1</td>\n",
              "      <td>n.a.</td>\n",
              "      <td>ratan tata</td>\n",
              "    </tr>\n",
              "  </tbody>\n",
              "</table>\n",
              "</div>"
            ],
            "text/plain": [
              "  stocks data     Unnamed: 1 Unnamed: 2 Unnamed: 3     Unnamed: 4\n",
              "0     tickers            eps    revenue      price         people\n",
              "1       GOOGL          27.82         87        845     larry page\n",
              "2         WMT           4.61        484         65           n.a.\n",
              "3        MSFT             -1         85         64     bill gates\n",
              "4        RIL   not available         50       1023  mukesh ambani\n",
              "5        TATA            5.6         -1       n.a.     ratan tata"
            ]
          },
          "metadata": {},
          "execution_count": 11
        }
      ]
    },
    {
      "cell_type": "code",
      "metadata": {
        "colab": {
          "base_uri": "https://localhost:8080/",
          "height": 204
        },
        "id": "cLwyeqrggVAB",
        "outputId": "74b37c4a-01b4-4c7b-d76c-b96e3d5e5355"
      },
      "source": [
        "df = pd.read_csv(\"stock_data(1).csv\", skiprows=1)\n",
        "df"
      ],
      "execution_count": 16,
      "outputs": [
        {
          "output_type": "execute_result",
          "data": {
            "text/html": [
              "<div>\n",
              "<style scoped>\n",
              "    .dataframe tbody tr th:only-of-type {\n",
              "        vertical-align: middle;\n",
              "    }\n",
              "\n",
              "    .dataframe tbody tr th {\n",
              "        vertical-align: top;\n",
              "    }\n",
              "\n",
              "    .dataframe thead th {\n",
              "        text-align: right;\n",
              "    }\n",
              "</style>\n",
              "<table border=\"1\" class=\"dataframe\">\n",
              "  <thead>\n",
              "    <tr style=\"text-align: right;\">\n",
              "      <th></th>\n",
              "      <th>tickers</th>\n",
              "      <th>eps</th>\n",
              "      <th>revenue</th>\n",
              "      <th>price</th>\n",
              "      <th>people</th>\n",
              "    </tr>\n",
              "  </thead>\n",
              "  <tbody>\n",
              "    <tr>\n",
              "      <th>0</th>\n",
              "      <td>GOOGL</td>\n",
              "      <td>27.82</td>\n",
              "      <td>87</td>\n",
              "      <td>845</td>\n",
              "      <td>larry page</td>\n",
              "    </tr>\n",
              "    <tr>\n",
              "      <th>1</th>\n",
              "      <td>WMT</td>\n",
              "      <td>4.61</td>\n",
              "      <td>484</td>\n",
              "      <td>65</td>\n",
              "      <td>n.a.</td>\n",
              "    </tr>\n",
              "    <tr>\n",
              "      <th>2</th>\n",
              "      <td>MSFT</td>\n",
              "      <td>-1</td>\n",
              "      <td>85</td>\n",
              "      <td>64</td>\n",
              "      <td>bill gates</td>\n",
              "    </tr>\n",
              "    <tr>\n",
              "      <th>3</th>\n",
              "      <td>RIL</td>\n",
              "      <td>not available</td>\n",
              "      <td>50</td>\n",
              "      <td>1023</td>\n",
              "      <td>mukesh ambani</td>\n",
              "    </tr>\n",
              "    <tr>\n",
              "      <th>4</th>\n",
              "      <td>TATA</td>\n",
              "      <td>5.6</td>\n",
              "      <td>-1</td>\n",
              "      <td>n.a.</td>\n",
              "      <td>ratan tata</td>\n",
              "    </tr>\n",
              "  </tbody>\n",
              "</table>\n",
              "</div>"
            ],
            "text/plain": [
              "  tickers            eps  revenue price         people\n",
              "0   GOOGL          27.82       87   845     larry page\n",
              "1     WMT           4.61      484    65           n.a.\n",
              "2    MSFT             -1       85    64     bill gates\n",
              "3    RIL   not available       50  1023  mukesh ambani\n",
              "4    TATA            5.6       -1  n.a.     ratan tata"
            ]
          },
          "metadata": {},
          "execution_count": 16
        }
      ]
    },
    {
      "cell_type": "code",
      "metadata": {
        "colab": {
          "base_uri": "https://localhost:8080/",
          "height": 204
        },
        "id": "ZJO75Jiviuhx",
        "outputId": "6a9876a0-8b4c-406c-d524-b16a5145cea0"
      },
      "source": [
        "df = pd.read_csv(\"stock_data(1).csv\", header=1) # skiprows and header are kind of same\n",
        "df"
      ],
      "execution_count": 17,
      "outputs": [
        {
          "output_type": "execute_result",
          "data": {
            "text/html": [
              "<div>\n",
              "<style scoped>\n",
              "    .dataframe tbody tr th:only-of-type {\n",
              "        vertical-align: middle;\n",
              "    }\n",
              "\n",
              "    .dataframe tbody tr th {\n",
              "        vertical-align: top;\n",
              "    }\n",
              "\n",
              "    .dataframe thead th {\n",
              "        text-align: right;\n",
              "    }\n",
              "</style>\n",
              "<table border=\"1\" class=\"dataframe\">\n",
              "  <thead>\n",
              "    <tr style=\"text-align: right;\">\n",
              "      <th></th>\n",
              "      <th>tickers</th>\n",
              "      <th>eps</th>\n",
              "      <th>revenue</th>\n",
              "      <th>price</th>\n",
              "      <th>people</th>\n",
              "    </tr>\n",
              "  </thead>\n",
              "  <tbody>\n",
              "    <tr>\n",
              "      <th>0</th>\n",
              "      <td>GOOGL</td>\n",
              "      <td>27.82</td>\n",
              "      <td>87</td>\n",
              "      <td>845</td>\n",
              "      <td>larry page</td>\n",
              "    </tr>\n",
              "    <tr>\n",
              "      <th>1</th>\n",
              "      <td>WMT</td>\n",
              "      <td>4.61</td>\n",
              "      <td>484</td>\n",
              "      <td>65</td>\n",
              "      <td>n.a.</td>\n",
              "    </tr>\n",
              "    <tr>\n",
              "      <th>2</th>\n",
              "      <td>MSFT</td>\n",
              "      <td>-1</td>\n",
              "      <td>85</td>\n",
              "      <td>64</td>\n",
              "      <td>bill gates</td>\n",
              "    </tr>\n",
              "    <tr>\n",
              "      <th>3</th>\n",
              "      <td>RIL</td>\n",
              "      <td>not available</td>\n",
              "      <td>50</td>\n",
              "      <td>1023</td>\n",
              "      <td>mukesh ambani</td>\n",
              "    </tr>\n",
              "    <tr>\n",
              "      <th>4</th>\n",
              "      <td>TATA</td>\n",
              "      <td>5.6</td>\n",
              "      <td>-1</td>\n",
              "      <td>n.a.</td>\n",
              "      <td>ratan tata</td>\n",
              "    </tr>\n",
              "  </tbody>\n",
              "</table>\n",
              "</div>"
            ],
            "text/plain": [
              "  tickers            eps  revenue price         people\n",
              "0   GOOGL          27.82       87   845     larry page\n",
              "1     WMT           4.61      484    65           n.a.\n",
              "2    MSFT             -1       85    64     bill gates\n",
              "3    RIL   not available       50  1023  mukesh ambani\n",
              "4    TATA            5.6       -1  n.a.     ratan tata"
            ]
          },
          "metadata": {},
          "execution_count": 17
        }
      ]
    },
    {
      "cell_type": "code",
      "metadata": {
        "colab": {
          "base_uri": "https://localhost:8080/",
          "height": 204
        },
        "id": "QRR1oMLEjG4Z",
        "outputId": "4f8161c6-e387-4c41-a6e8-7ead4d9b1d7a"
      },
      "source": [
        "df = pd.read_csv(\"stock_data(2).csv\", header=None, names = [\"ticker\",\"eps\",\"revenue\",\"people\"])\n",
        "df"
      ],
      "execution_count": 20,
      "outputs": [
        {
          "output_type": "execute_result",
          "data": {
            "text/html": [
              "<div>\n",
              "<style scoped>\n",
              "    .dataframe tbody tr th:only-of-type {\n",
              "        vertical-align: middle;\n",
              "    }\n",
              "\n",
              "    .dataframe tbody tr th {\n",
              "        vertical-align: top;\n",
              "    }\n",
              "\n",
              "    .dataframe thead th {\n",
              "        text-align: right;\n",
              "    }\n",
              "</style>\n",
              "<table border=\"1\" class=\"dataframe\">\n",
              "  <thead>\n",
              "    <tr style=\"text-align: right;\">\n",
              "      <th></th>\n",
              "      <th>ticker</th>\n",
              "      <th>eps</th>\n",
              "      <th>revenue</th>\n",
              "      <th>people</th>\n",
              "    </tr>\n",
              "  </thead>\n",
              "  <tbody>\n",
              "    <tr>\n",
              "      <th>GOOGL</th>\n",
              "      <td>27.82</td>\n",
              "      <td>87</td>\n",
              "      <td>845</td>\n",
              "      <td>larry page</td>\n",
              "    </tr>\n",
              "    <tr>\n",
              "      <th>WMT</th>\n",
              "      <td>4.61</td>\n",
              "      <td>484</td>\n",
              "      <td>65</td>\n",
              "      <td>n.a.</td>\n",
              "    </tr>\n",
              "    <tr>\n",
              "      <th>MSFT</th>\n",
              "      <td>-1</td>\n",
              "      <td>85</td>\n",
              "      <td>64</td>\n",
              "      <td>bill gates</td>\n",
              "    </tr>\n",
              "    <tr>\n",
              "      <th>RIL</th>\n",
              "      <td>not available</td>\n",
              "      <td>50</td>\n",
              "      <td>1023</td>\n",
              "      <td>mukesh ambani</td>\n",
              "    </tr>\n",
              "    <tr>\n",
              "      <th>TATA</th>\n",
              "      <td>5.6</td>\n",
              "      <td>-1</td>\n",
              "      <td>n.a.</td>\n",
              "      <td>ratan tata</td>\n",
              "    </tr>\n",
              "  </tbody>\n",
              "</table>\n",
              "</div>"
            ],
            "text/plain": [
              "              ticker  eps revenue         people\n",
              "GOOGL          27.82   87     845     larry page\n",
              "WMT             4.61  484      65           n.a.\n",
              "MSFT              -1   85      64     bill gates\n",
              "RIL    not available   50    1023  mukesh ambani\n",
              "TATA             5.6   -1    n.a.     ratan tata"
            ]
          },
          "metadata": {},
          "execution_count": 20
        }
      ]
    },
    {
      "cell_type": "code",
      "metadata": {
        "colab": {
          "base_uri": "https://localhost:8080/",
          "height": 111
        },
        "id": "ild56iwAkWAC",
        "outputId": "9617a0de-a84e-4652-feca-9d8741cc8a0c"
      },
      "source": [
        "df = pd.read_csv(\"stock_data.csv\",  nrows=2)\n",
        "df"
      ],
      "execution_count": 21,
      "outputs": [
        {
          "output_type": "execute_result",
          "data": {
            "text/html": [
              "<div>\n",
              "<style scoped>\n",
              "    .dataframe tbody tr th:only-of-type {\n",
              "        vertical-align: middle;\n",
              "    }\n",
              "\n",
              "    .dataframe tbody tr th {\n",
              "        vertical-align: top;\n",
              "    }\n",
              "\n",
              "    .dataframe thead th {\n",
              "        text-align: right;\n",
              "    }\n",
              "</style>\n",
              "<table border=\"1\" class=\"dataframe\">\n",
              "  <thead>\n",
              "    <tr style=\"text-align: right;\">\n",
              "      <th></th>\n",
              "      <th>tickers</th>\n",
              "      <th>eps</th>\n",
              "      <th>revenue</th>\n",
              "      <th>price</th>\n",
              "      <th>people</th>\n",
              "    </tr>\n",
              "  </thead>\n",
              "  <tbody>\n",
              "    <tr>\n",
              "      <th>0</th>\n",
              "      <td>GOOGL</td>\n",
              "      <td>27.82</td>\n",
              "      <td>87</td>\n",
              "      <td>845</td>\n",
              "      <td>larry page</td>\n",
              "    </tr>\n",
              "    <tr>\n",
              "      <th>1</th>\n",
              "      <td>WMT</td>\n",
              "      <td>4.61</td>\n",
              "      <td>484</td>\n",
              "      <td>65</td>\n",
              "      <td>n.a.</td>\n",
              "    </tr>\n",
              "  </tbody>\n",
              "</table>\n",
              "</div>"
            ],
            "text/plain": [
              "  tickers    eps  revenue  price      people\n",
              "0   GOOGL  27.82       87    845  larry page\n",
              "1     WMT   4.61      484     65        n.a."
            ]
          },
          "metadata": {},
          "execution_count": 21
        }
      ]
    },
    {
      "cell_type": "code",
      "metadata": {
        "colab": {
          "base_uri": "https://localhost:8080/",
          "height": 204
        },
        "id": "MQgK4v66kr56",
        "outputId": "a10139cd-e16a-46a8-b203-f7b5d64d79a8"
      },
      "source": [
        "df = pd.read_csv(\"stock_data.csv\", na_values=[\"n.a.\", \"not available\"])\n",
        "df"
      ],
      "execution_count": 22,
      "outputs": [
        {
          "output_type": "execute_result",
          "data": {
            "text/html": [
              "<div>\n",
              "<style scoped>\n",
              "    .dataframe tbody tr th:only-of-type {\n",
              "        vertical-align: middle;\n",
              "    }\n",
              "\n",
              "    .dataframe tbody tr th {\n",
              "        vertical-align: top;\n",
              "    }\n",
              "\n",
              "    .dataframe thead th {\n",
              "        text-align: right;\n",
              "    }\n",
              "</style>\n",
              "<table border=\"1\" class=\"dataframe\">\n",
              "  <thead>\n",
              "    <tr style=\"text-align: right;\">\n",
              "      <th></th>\n",
              "      <th>tickers</th>\n",
              "      <th>eps</th>\n",
              "      <th>revenue</th>\n",
              "      <th>price</th>\n",
              "      <th>people</th>\n",
              "    </tr>\n",
              "  </thead>\n",
              "  <tbody>\n",
              "    <tr>\n",
              "      <th>0</th>\n",
              "      <td>GOOGL</td>\n",
              "      <td>27.82</td>\n",
              "      <td>87</td>\n",
              "      <td>845.0</td>\n",
              "      <td>larry page</td>\n",
              "    </tr>\n",
              "    <tr>\n",
              "      <th>1</th>\n",
              "      <td>WMT</td>\n",
              "      <td>4.61</td>\n",
              "      <td>484</td>\n",
              "      <td>65.0</td>\n",
              "      <td>NaN</td>\n",
              "    </tr>\n",
              "    <tr>\n",
              "      <th>2</th>\n",
              "      <td>MSFT</td>\n",
              "      <td>-1.00</td>\n",
              "      <td>85</td>\n",
              "      <td>64.0</td>\n",
              "      <td>bill gates</td>\n",
              "    </tr>\n",
              "    <tr>\n",
              "      <th>3</th>\n",
              "      <td>RIL</td>\n",
              "      <td>NaN</td>\n",
              "      <td>50</td>\n",
              "      <td>1023.0</td>\n",
              "      <td>mukesh ambani</td>\n",
              "    </tr>\n",
              "    <tr>\n",
              "      <th>4</th>\n",
              "      <td>TATA</td>\n",
              "      <td>5.60</td>\n",
              "      <td>-1</td>\n",
              "      <td>NaN</td>\n",
              "      <td>ratan tata</td>\n",
              "    </tr>\n",
              "  </tbody>\n",
              "</table>\n",
              "</div>"
            ],
            "text/plain": [
              "  tickers    eps  revenue   price         people\n",
              "0   GOOGL  27.82       87   845.0     larry page\n",
              "1     WMT   4.61      484    65.0            NaN\n",
              "2    MSFT  -1.00       85    64.0     bill gates\n",
              "3    RIL     NaN       50  1023.0  mukesh ambani\n",
              "4    TATA   5.60       -1     NaN     ratan tata"
            ]
          },
          "metadata": {},
          "execution_count": 22
        }
      ]
    },
    {
      "cell_type": "code",
      "metadata": {
        "colab": {
          "base_uri": "https://localhost:8080/",
          "height": 204
        },
        "id": "-RseAyi9k6ha",
        "outputId": "cf298dd7-e9a0-4799-82d4-e9c6a00d1964"
      },
      "source": [
        "df = pd.read_csv(\"stock_data.csv\",  na_values={\n",
        "        'eps': ['not available'],\n",
        "        'revenue': [-1],\n",
        "        'people': ['not available','n.a.']\n",
        "    })\n",
        "df"
      ],
      "execution_count": 23,
      "outputs": [
        {
          "output_type": "execute_result",
          "data": {
            "text/html": [
              "<div>\n",
              "<style scoped>\n",
              "    .dataframe tbody tr th:only-of-type {\n",
              "        vertical-align: middle;\n",
              "    }\n",
              "\n",
              "    .dataframe tbody tr th {\n",
              "        vertical-align: top;\n",
              "    }\n",
              "\n",
              "    .dataframe thead th {\n",
              "        text-align: right;\n",
              "    }\n",
              "</style>\n",
              "<table border=\"1\" class=\"dataframe\">\n",
              "  <thead>\n",
              "    <tr style=\"text-align: right;\">\n",
              "      <th></th>\n",
              "      <th>tickers</th>\n",
              "      <th>eps</th>\n",
              "      <th>revenue</th>\n",
              "      <th>price</th>\n",
              "      <th>people</th>\n",
              "    </tr>\n",
              "  </thead>\n",
              "  <tbody>\n",
              "    <tr>\n",
              "      <th>0</th>\n",
              "      <td>GOOGL</td>\n",
              "      <td>27.82</td>\n",
              "      <td>87.0</td>\n",
              "      <td>845</td>\n",
              "      <td>larry page</td>\n",
              "    </tr>\n",
              "    <tr>\n",
              "      <th>1</th>\n",
              "      <td>WMT</td>\n",
              "      <td>4.61</td>\n",
              "      <td>484.0</td>\n",
              "      <td>65</td>\n",
              "      <td>NaN</td>\n",
              "    </tr>\n",
              "    <tr>\n",
              "      <th>2</th>\n",
              "      <td>MSFT</td>\n",
              "      <td>-1.00</td>\n",
              "      <td>85.0</td>\n",
              "      <td>64</td>\n",
              "      <td>bill gates</td>\n",
              "    </tr>\n",
              "    <tr>\n",
              "      <th>3</th>\n",
              "      <td>RIL</td>\n",
              "      <td>NaN</td>\n",
              "      <td>50.0</td>\n",
              "      <td>1023</td>\n",
              "      <td>mukesh ambani</td>\n",
              "    </tr>\n",
              "    <tr>\n",
              "      <th>4</th>\n",
              "      <td>TATA</td>\n",
              "      <td>5.60</td>\n",
              "      <td>NaN</td>\n",
              "      <td>n.a.</td>\n",
              "      <td>ratan tata</td>\n",
              "    </tr>\n",
              "  </tbody>\n",
              "</table>\n",
              "</div>"
            ],
            "text/plain": [
              "  tickers    eps  revenue price         people\n",
              "0   GOOGL  27.82     87.0   845     larry page\n",
              "1     WMT   4.61    484.0    65            NaN\n",
              "2    MSFT  -1.00     85.0    64     bill gates\n",
              "3    RIL     NaN     50.0  1023  mukesh ambani\n",
              "4    TATA   5.60      NaN  n.a.     ratan tata"
            ]
          },
          "metadata": {},
          "execution_count": 23
        }
      ]
    },
    {
      "cell_type": "code",
      "metadata": {
        "id": "2T6jGqw9lI-K"
      },
      "source": [
        "#Write to CSV\n",
        "df.to_csv(\"new.csv\", index=False)"
      ],
      "execution_count": 28,
      "outputs": []
    },
    {
      "cell_type": "code",
      "metadata": {
        "colab": {
          "base_uri": "https://localhost:8080/"
        },
        "id": "t1XoXXptlQ-y",
        "outputId": "c72c535f-4c42-422a-84a4-81c4af6e6c32"
      },
      "source": [
        "df.columns"
      ],
      "execution_count": 29,
      "outputs": [
        {
          "output_type": "execute_result",
          "data": {
            "text/plain": [
              "Index(['tickers', 'eps', 'revenue', 'price', 'people'], dtype='object')"
            ]
          },
          "metadata": {},
          "execution_count": 29
        }
      ]
    },
    {
      "cell_type": "code",
      "metadata": {
        "id": "6aocRhUJlw_K"
      },
      "source": [
        "df.to_csv(\"new.csv\",header=False)"
      ],
      "execution_count": 30,
      "outputs": []
    },
    {
      "cell_type": "code",
      "metadata": {
        "id": "hwy6NbiumHq6"
      },
      "source": [
        "df.to_csv(\"new.csv\", columns=[\"tickers\",\"price\"], index=False)"
      ],
      "execution_count": 31,
      "outputs": []
    },
    {
      "cell_type": "code",
      "metadata": {
        "colab": {
          "base_uri": "https://localhost:8080/",
          "height": 204
        },
        "id": "oj0TuhuwmO5p",
        "outputId": "bf000b36-a0da-46c0-da3f-c07ce4e23652"
      },
      "source": [
        "#Read Excel\n",
        "df = pd.read_excel(\"stock_data.xlsx\",\"Sheet1\")\n",
        "df"
      ],
      "execution_count": 34,
      "outputs": [
        {
          "output_type": "execute_result",
          "data": {
            "text/html": [
              "<div>\n",
              "<style scoped>\n",
              "    .dataframe tbody tr th:only-of-type {\n",
              "        vertical-align: middle;\n",
              "    }\n",
              "\n",
              "    .dataframe tbody tr th {\n",
              "        vertical-align: top;\n",
              "    }\n",
              "\n",
              "    .dataframe thead th {\n",
              "        text-align: right;\n",
              "    }\n",
              "</style>\n",
              "<table border=\"1\" class=\"dataframe\">\n",
              "  <thead>\n",
              "    <tr style=\"text-align: right;\">\n",
              "      <th></th>\n",
              "      <th>tickers</th>\n",
              "      <th>eps</th>\n",
              "      <th>revenue</th>\n",
              "      <th>price</th>\n",
              "      <th>people</th>\n",
              "    </tr>\n",
              "  </thead>\n",
              "  <tbody>\n",
              "    <tr>\n",
              "      <th>0</th>\n",
              "      <td>GOOGL</td>\n",
              "      <td>27.82</td>\n",
              "      <td>87</td>\n",
              "      <td>845</td>\n",
              "      <td>larry page</td>\n",
              "    </tr>\n",
              "    <tr>\n",
              "      <th>1</th>\n",
              "      <td>WMT</td>\n",
              "      <td>4.61</td>\n",
              "      <td>484</td>\n",
              "      <td>65</td>\n",
              "      <td>n.a.</td>\n",
              "    </tr>\n",
              "    <tr>\n",
              "      <th>2</th>\n",
              "      <td>MSFT</td>\n",
              "      <td>-1</td>\n",
              "      <td>85</td>\n",
              "      <td>64</td>\n",
              "      <td>bill gates</td>\n",
              "    </tr>\n",
              "    <tr>\n",
              "      <th>3</th>\n",
              "      <td>RIL</td>\n",
              "      <td>not available</td>\n",
              "      <td>50</td>\n",
              "      <td>1023</td>\n",
              "      <td>mukesh ambani</td>\n",
              "    </tr>\n",
              "    <tr>\n",
              "      <th>4</th>\n",
              "      <td>TATA</td>\n",
              "      <td>5.6</td>\n",
              "      <td>-1</td>\n",
              "      <td>n.a.</td>\n",
              "      <td>ratan tata</td>\n",
              "    </tr>\n",
              "  </tbody>\n",
              "</table>\n",
              "</div>"
            ],
            "text/plain": [
              "  tickers            eps  revenue price         people\n",
              "0   GOOGL          27.82       87   845     larry page\n",
              "1     WMT           4.61      484    65           n.a.\n",
              "2    MSFT             -1       85    64     bill gates\n",
              "3    RIL   not available       50  1023  mukesh ambani\n",
              "4    TATA            5.6       -1  n.a.     ratan tata"
            ]
          },
          "metadata": {},
          "execution_count": 34
        }
      ]
    },
    {
      "cell_type": "code",
      "metadata": {
        "colab": {
          "base_uri": "https://localhost:8080/",
          "height": 204
        },
        "id": "YGx1DfFamwAr",
        "outputId": "77a0e4be-eaef-48d2-e4da-9f7bc721d539"
      },
      "source": [
        "def convert_people_cell(cell):\n",
        "    if cell==\"n.a.\":\n",
        "        return 'Sam Walton'\n",
        "    return cell\n",
        "\n",
        "def convert_price_cell(cell):\n",
        "    if cell==\"n.a.\":\n",
        "        return 50\n",
        "    return cell\n",
        "    \n",
        "df = pd.read_excel(\"stock_data.xlsx\",\"Sheet1\", converters= {\n",
        "        'people': convert_people_cell,\n",
        "        'price': convert_price_cell\n",
        "    })\n",
        "df"
      ],
      "execution_count": 35,
      "outputs": [
        {
          "output_type": "execute_result",
          "data": {
            "text/html": [
              "<div>\n",
              "<style scoped>\n",
              "    .dataframe tbody tr th:only-of-type {\n",
              "        vertical-align: middle;\n",
              "    }\n",
              "\n",
              "    .dataframe tbody tr th {\n",
              "        vertical-align: top;\n",
              "    }\n",
              "\n",
              "    .dataframe thead th {\n",
              "        text-align: right;\n",
              "    }\n",
              "</style>\n",
              "<table border=\"1\" class=\"dataframe\">\n",
              "  <thead>\n",
              "    <tr style=\"text-align: right;\">\n",
              "      <th></th>\n",
              "      <th>tickers</th>\n",
              "      <th>eps</th>\n",
              "      <th>revenue</th>\n",
              "      <th>price</th>\n",
              "      <th>people</th>\n",
              "    </tr>\n",
              "  </thead>\n",
              "  <tbody>\n",
              "    <tr>\n",
              "      <th>0</th>\n",
              "      <td>GOOGL</td>\n",
              "      <td>27.82</td>\n",
              "      <td>87</td>\n",
              "      <td>845</td>\n",
              "      <td>larry page</td>\n",
              "    </tr>\n",
              "    <tr>\n",
              "      <th>1</th>\n",
              "      <td>WMT</td>\n",
              "      <td>4.61</td>\n",
              "      <td>484</td>\n",
              "      <td>65</td>\n",
              "      <td>Sam Walton</td>\n",
              "    </tr>\n",
              "    <tr>\n",
              "      <th>2</th>\n",
              "      <td>MSFT</td>\n",
              "      <td>-1</td>\n",
              "      <td>85</td>\n",
              "      <td>64</td>\n",
              "      <td>bill gates</td>\n",
              "    </tr>\n",
              "    <tr>\n",
              "      <th>3</th>\n",
              "      <td>RIL</td>\n",
              "      <td>not available</td>\n",
              "      <td>50</td>\n",
              "      <td>1023</td>\n",
              "      <td>mukesh ambani</td>\n",
              "    </tr>\n",
              "    <tr>\n",
              "      <th>4</th>\n",
              "      <td>TATA</td>\n",
              "      <td>5.6</td>\n",
              "      <td>-1</td>\n",
              "      <td>50</td>\n",
              "      <td>ratan tata</td>\n",
              "    </tr>\n",
              "  </tbody>\n",
              "</table>\n",
              "</div>"
            ],
            "text/plain": [
              "  tickers            eps  revenue  price         people\n",
              "0   GOOGL          27.82       87    845     larry page\n",
              "1     WMT           4.61      484     65     Sam Walton\n",
              "2    MSFT             -1       85     64     bill gates\n",
              "3    RIL   not available       50   1023  mukesh ambani\n",
              "4    TATA            5.6       -1     50     ratan tata"
            ]
          },
          "metadata": {},
          "execution_count": 35
        }
      ]
    },
    {
      "cell_type": "code",
      "metadata": {
        "id": "dTwJL3Vrm7_y"
      },
      "source": [
        "#Write to Excel\n",
        "df.to_excel(\"new.xlsx\", sheet_name=\"stocks\", index=False, startrow=2, startcol=1)"
      ],
      "execution_count": 36,
      "outputs": []
    },
    {
      "cell_type": "code",
      "metadata": {
        "id": "6GCKaIOmnK46"
      },
      "source": [
        "#Write two dataframes to two separate sheets in excel\n",
        "df_stocks = pd.DataFrame({\n",
        "    'tickers': ['GOOGL', 'WMT', 'MSFT'],\n",
        "    'price': [845, 65, 64 ],\n",
        "    'pe': [30.37, 14.26, 30.97],\n",
        "    'eps': [27.82, 4.61, 2.12]\n",
        "})\n",
        "\n",
        "df_weather =  pd.DataFrame({\n",
        "    'day': ['1/1/2017','1/2/2017','1/3/2017'],\n",
        "    'temperature': [32,35,28],\n",
        "    'event': ['Rain', 'Sunny', 'Snow']\n",
        "})"
      ],
      "execution_count": 37,
      "outputs": []
    },
    {
      "cell_type": "code",
      "metadata": {
        "id": "rWX1lOP0ngFy"
      },
      "source": [
        "with pd.ExcelWriter('stocks_weather.xlsx') as writer:\n",
        "    df_stocks.to_excel(writer, sheet_name=\"stocks\")\n",
        "    df_weather.to_excel(writer, sheet_name=\"weather\")"
      ],
      "execution_count": 38,
      "outputs": []
    }
  ]
}