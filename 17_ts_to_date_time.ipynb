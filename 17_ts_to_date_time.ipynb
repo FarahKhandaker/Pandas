{
  "nbformat": 4,
  "nbformat_minor": 0,
  "metadata": {
    "colab": {
      "name": "17_ts_to_date_time.ipynb",
      "provenance": []
    },
    "kernelspec": {
      "name": "python3",
      "display_name": "Python 3"
    },
    "language_info": {
      "name": "python"
    }
  },
  "cells": [
    {
      "cell_type": "code",
      "metadata": {
        "colab": {
          "base_uri": "https://localhost:8080/"
        },
        "id": "GWq7PMXB46Ic",
        "outputId": "c32fe19d-e7e5-4252-f1c0-bd0ba7a39653"
      },
      "source": [
        "import pandas as pd\n",
        "dates = ['2017-01-05', 'Jan 5, 2017', '01/05/2017', '2017.01.05', '2017/01/05','20170105']\n",
        "pd.to_datetime(dates)"
      ],
      "execution_count": 1,
      "outputs": [
        {
          "output_type": "execute_result",
          "data": {
            "text/plain": [
              "DatetimeIndex(['2017-01-05', '2017-01-05', '2017-01-05', '2017-01-05',\n",
              "               '2017-01-05', '2017-01-05'],\n",
              "              dtype='datetime64[ns]', freq=None)"
            ]
          },
          "metadata": {},
          "execution_count": 1
        }
      ]
    },
    {
      "cell_type": "code",
      "metadata": {
        "colab": {
          "base_uri": "https://localhost:8080/"
        },
        "id": "isaEUPuK5GpX",
        "outputId": "45ebbd63-54c2-4d8a-9103-4465c48b5c4b"
      },
      "source": [
        "dt = ['2017-01-05 2:30:00 PM', 'Jan 5, 2017 14:30:00', '01/05/2016', '2017.01.05', '2017/01/05','20170105']\n",
        "pd.to_datetime(dt)"
      ],
      "execution_count": 2,
      "outputs": [
        {
          "output_type": "execute_result",
          "data": {
            "text/plain": [
              "DatetimeIndex(['2017-01-05 14:30:00', '2017-01-05 14:30:00',\n",
              "               '2016-01-05 00:00:00', '2017-01-05 00:00:00',\n",
              "               '2017-01-05 00:00:00', '2017-01-05 00:00:00'],\n",
              "              dtype='datetime64[ns]', freq=None)"
            ]
          },
          "metadata": {},
          "execution_count": 2
        }
      ]
    },
    {
      "cell_type": "code",
      "metadata": {
        "colab": {
          "base_uri": "https://localhost:8080/"
        },
        "id": "ER_bEarO5Gs-",
        "outputId": "63aa5533-6fb4-4786-b331-f62b60bc06bb"
      },
      "source": [
        "#European style dates with day first\n",
        "pd.to_datetime('30-12-2016')"
      ],
      "execution_count": 3,
      "outputs": [
        {
          "output_type": "execute_result",
          "data": {
            "text/plain": [
              "Timestamp('2016-12-30 00:00:00')"
            ]
          },
          "metadata": {},
          "execution_count": 3
        }
      ]
    },
    {
      "cell_type": "code",
      "metadata": {
        "colab": {
          "base_uri": "https://localhost:8080/"
        },
        "id": "EOOPS8E65Gvm",
        "outputId": "64caf8e4-0651-4194-8956-4f296984f41d"
      },
      "source": [
        "pd.to_datetime('5-1-2016', dayfirst=True)"
      ],
      "execution_count": 4,
      "outputs": [
        {
          "output_type": "execute_result",
          "data": {
            "text/plain": [
              "Timestamp('2016-01-05 00:00:00')"
            ]
          },
          "metadata": {},
          "execution_count": 4
        }
      ]
    },
    {
      "cell_type": "code",
      "metadata": {
        "colab": {
          "base_uri": "https://localhost:8080/"
        },
        "id": "i6nK_dqE5GyH",
        "outputId": "39730232-3f9b-44f6-aff5-b040a38842c8"
      },
      "source": [
        "#Custom date time format\n",
        "pd.to_datetime('2017$01$05', format='%Y$%m$%d')"
      ],
      "execution_count": 5,
      "outputs": [
        {
          "output_type": "execute_result",
          "data": {
            "text/plain": [
              "Timestamp('2017-01-05 00:00:00')"
            ]
          },
          "metadata": {},
          "execution_count": 5
        }
      ]
    },
    {
      "cell_type": "code",
      "metadata": {
        "colab": {
          "base_uri": "https://localhost:8080/"
        },
        "id": "_vp4HcOM5G0y",
        "outputId": "b0e9fe69-9452-49d9-c3a8-f3004938f274"
      },
      "source": [
        "pd.to_datetime('2017#01#05', format='%Y#%m#%d')"
      ],
      "execution_count": 6,
      "outputs": [
        {
          "output_type": "execute_result",
          "data": {
            "text/plain": [
              "Timestamp('2017-01-05 00:00:00')"
            ]
          },
          "metadata": {},
          "execution_count": 6
        }
      ]
    },
    {
      "cell_type": "code",
      "metadata": {
        "colab": {
          "base_uri": "https://localhost:8080/"
        },
        "id": "sHDwrcBZ5G3e",
        "outputId": "7f7e204a-9122-4289-8769-103e67c22999"
      },
      "source": [
        "#Handling invalid dates\n",
        "pd.to_datetime(['2017-01-05', 'Jan 6, 2017', 'abc'], errors='ignore')"
      ],
      "execution_count": 7,
      "outputs": [
        {
          "output_type": "execute_result",
          "data": {
            "text/plain": [
              "Index(['2017-01-05', 'Jan 6, 2017', 'abc'], dtype='object')"
            ]
          },
          "metadata": {},
          "execution_count": 7
        }
      ]
    },
    {
      "cell_type": "code",
      "metadata": {
        "colab": {
          "base_uri": "https://localhost:8080/"
        },
        "id": "ez_I_4sR5G6o",
        "outputId": "d6720df7-df3a-47cc-e91a-0e6ddfc7ebe7"
      },
      "source": [
        "pd.to_datetime(['2017-01-05', 'Jan 6, 2017', 'abc'], errors='coerce')"
      ],
      "execution_count": 8,
      "outputs": [
        {
          "output_type": "execute_result",
          "data": {
            "text/plain": [
              "DatetimeIndex(['2017-01-05', '2017-01-06', 'NaT'], dtype='datetime64[ns]', freq=None)"
            ]
          },
          "metadata": {},
          "execution_count": 8
        }
      ]
    },
    {
      "cell_type": "code",
      "metadata": {
        "colab": {
          "base_uri": "https://localhost:8080/"
        },
        "id": "CAPIYyNy5HLJ",
        "outputId": "506e3b90-8c24-4d99-e4a1-c436ca206779"
      },
      "source": [
        "#Epoch\n",
        "current_epoch = 1501324478\n",
        "pd.to_datetime(current_epoch, unit='s')"
      ],
      "execution_count": 9,
      "outputs": [
        {
          "output_type": "execute_result",
          "data": {
            "text/plain": [
              "Timestamp('2017-07-29 10:34:38')"
            ]
          },
          "metadata": {},
          "execution_count": 9
        }
      ]
    },
    {
      "cell_type": "code",
      "metadata": {
        "colab": {
          "base_uri": "https://localhost:8080/"
        },
        "id": "h-dwzrr_57zn",
        "outputId": "790ead2b-3b20-495e-9189-678f0d3cfd48"
      },
      "source": [
        "pd.to_datetime(current_epoch*1000, unit='ms')"
      ],
      "execution_count": 10,
      "outputs": [
        {
          "output_type": "execute_result",
          "data": {
            "text/plain": [
              "Timestamp('2017-07-29 10:34:38')"
            ]
          },
          "metadata": {},
          "execution_count": 10
        }
      ]
    },
    {
      "cell_type": "code",
      "metadata": {
        "colab": {
          "base_uri": "https://localhost:8080/"
        },
        "id": "GnwMrvo35-eH",
        "outputId": "a447d3dd-0889-4ccc-c2b5-7f004be48b40"
      },
      "source": [
        "t = pd.to_datetime([current_epoch], unit='s')\n",
        "t"
      ],
      "execution_count": 11,
      "outputs": [
        {
          "output_type": "execute_result",
          "data": {
            "text/plain": [
              "DatetimeIndex(['2017-07-29 10:34:38'], dtype='datetime64[ns]', freq=None)"
            ]
          },
          "metadata": {},
          "execution_count": 11
        }
      ]
    },
    {
      "cell_type": "code",
      "metadata": {
        "colab": {
          "base_uri": "https://localhost:8080/"
        },
        "id": "ND8NvXKZ5-hW",
        "outputId": "2598cc87-52c6-4930-a45a-219bb4a2a119"
      },
      "source": [
        "t.view('int64')"
      ],
      "execution_count": 12,
      "outputs": [
        {
          "output_type": "execute_result",
          "data": {
            "text/plain": [
              "array([1501324478000000000])"
            ]
          },
          "metadata": {},
          "execution_count": 12
        }
      ]
    }
  ]
}